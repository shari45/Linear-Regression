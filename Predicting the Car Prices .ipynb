{
 "cells": [
  {
   "cell_type": "markdown",
   "id": "eca2fef5",
   "metadata": {},
   "source": [
    "# Calling Required Libaries "
   ]
  },
  {
   "cell_type": "code",
   "execution_count": 1,
   "id": "a200264d",
   "metadata": {},
   "outputs": [],
   "source": [
    "import numpy as np\n",
    "import pandas as pd"
   ]
  },
  {
   "cell_type": "markdown",
   "id": "a44bf4ff",
   "metadata": {},
   "source": [
    "# Loading the CSV (Tabular Data) "
   ]
  },
  {
   "cell_type": "code",
   "execution_count": 2,
   "id": "16bb416f",
   "metadata": {},
   "outputs": [
    {
     "data": {
      "text/html": [
       "<div>\n",
       "<style scoped>\n",
       "    .dataframe tbody tr th:only-of-type {\n",
       "        vertical-align: middle;\n",
       "    }\n",
       "\n",
       "    .dataframe tbody tr th {\n",
       "        vertical-align: top;\n",
       "    }\n",
       "\n",
       "    .dataframe thead th {\n",
       "        text-align: right;\n",
       "    }\n",
       "</style>\n",
       "<table border=\"1\" class=\"dataframe\">\n",
       "  <thead>\n",
       "    <tr style=\"text-align: right;\">\n",
       "      <th></th>\n",
       "      <th>Make</th>\n",
       "      <th>Model</th>\n",
       "      <th>Year</th>\n",
       "      <th>Engine Fuel Type</th>\n",
       "      <th>Engine HP</th>\n",
       "      <th>Engine Cylinders</th>\n",
       "      <th>Transmission Type</th>\n",
       "      <th>Driven_Wheels</th>\n",
       "      <th>Number of Doors</th>\n",
       "      <th>Market Category</th>\n",
       "      <th>Vehicle Size</th>\n",
       "      <th>Vehicle Style</th>\n",
       "      <th>highway MPG</th>\n",
       "      <th>city mpg</th>\n",
       "      <th>Popularity</th>\n",
       "      <th>MSRP</th>\n",
       "    </tr>\n",
       "  </thead>\n",
       "  <tbody>\n",
       "    <tr>\n",
       "      <th>0</th>\n",
       "      <td>BMW</td>\n",
       "      <td>1 Series M</td>\n",
       "      <td>2011</td>\n",
       "      <td>premium unleaded (required)</td>\n",
       "      <td>335.0</td>\n",
       "      <td>6.0</td>\n",
       "      <td>MANUAL</td>\n",
       "      <td>rear wheel drive</td>\n",
       "      <td>2.0</td>\n",
       "      <td>Factory Tuner,Luxury,High-Performance</td>\n",
       "      <td>Compact</td>\n",
       "      <td>Coupe</td>\n",
       "      <td>26</td>\n",
       "      <td>19</td>\n",
       "      <td>3916</td>\n",
       "      <td>46135</td>\n",
       "    </tr>\n",
       "    <tr>\n",
       "      <th>1</th>\n",
       "      <td>BMW</td>\n",
       "      <td>1 Series</td>\n",
       "      <td>2011</td>\n",
       "      <td>premium unleaded (required)</td>\n",
       "      <td>300.0</td>\n",
       "      <td>6.0</td>\n",
       "      <td>MANUAL</td>\n",
       "      <td>rear wheel drive</td>\n",
       "      <td>2.0</td>\n",
       "      <td>Luxury,Performance</td>\n",
       "      <td>Compact</td>\n",
       "      <td>Convertible</td>\n",
       "      <td>28</td>\n",
       "      <td>19</td>\n",
       "      <td>3916</td>\n",
       "      <td>40650</td>\n",
       "    </tr>\n",
       "  </tbody>\n",
       "</table>\n",
       "</div>"
      ],
      "text/plain": [
       "  Make       Model  Year             Engine Fuel Type  Engine HP  \\\n",
       "0  BMW  1 Series M  2011  premium unleaded (required)      335.0   \n",
       "1  BMW    1 Series  2011  premium unleaded (required)      300.0   \n",
       "\n",
       "   Engine Cylinders Transmission Type     Driven_Wheels  Number of Doors  \\\n",
       "0               6.0            MANUAL  rear wheel drive              2.0   \n",
       "1               6.0            MANUAL  rear wheel drive              2.0   \n",
       "\n",
       "                         Market Category Vehicle Size Vehicle Style  \\\n",
       "0  Factory Tuner,Luxury,High-Performance      Compact         Coupe   \n",
       "1                     Luxury,Performance      Compact   Convertible   \n",
       "\n",
       "   highway MPG  city mpg  Popularity   MSRP  \n",
       "0           26        19        3916  46135  \n",
       "1           28        19        3916  40650  "
      ]
     },
     "execution_count": 2,
     "metadata": {},
     "output_type": "execute_result"
    }
   ],
   "source": [
    "csv_data='data.csv'\n",
    "df=pd.read_csv(csv_data)\n",
    "df.head(2)"
   ]
  },
  {
   "cell_type": "markdown",
   "id": "dd553d1c",
   "metadata": {},
   "source": [
    "# Preparing/Cleaning the Data"
   ]
  },
  {
   "cell_type": "markdown",
   "id": "70503741",
   "metadata": {},
   "source": [
    "I have Columns with unorganized manner, e.g.,   -- Engine Fule Type--   has spaces and all capital, but --Driven_Wheels--   has underscore instead of space. Similarly --highway MPG--   is with small letters. So let's Even This"
   ]
  },
  {
   "cell_type": "code",
   "execution_count": 3,
   "id": "b7865d21",
   "metadata": {},
   "outputs": [
    {
     "data": {
      "text/html": [
       "<div>\n",
       "<style scoped>\n",
       "    .dataframe tbody tr th:only-of-type {\n",
       "        vertical-align: middle;\n",
       "    }\n",
       "\n",
       "    .dataframe tbody tr th {\n",
       "        vertical-align: top;\n",
       "    }\n",
       "\n",
       "    .dataframe thead th {\n",
       "        text-align: right;\n",
       "    }\n",
       "</style>\n",
       "<table border=\"1\" class=\"dataframe\">\n",
       "  <thead>\n",
       "    <tr style=\"text-align: right;\">\n",
       "      <th></th>\n",
       "      <th>make</th>\n",
       "      <th>model</th>\n",
       "      <th>year</th>\n",
       "      <th>engine_fuel_type</th>\n",
       "      <th>engine_hp</th>\n",
       "      <th>engine_cylinders</th>\n",
       "      <th>transmission_type</th>\n",
       "      <th>driven_wheels</th>\n",
       "      <th>number_of_doors</th>\n",
       "      <th>market_category</th>\n",
       "      <th>vehicle_size</th>\n",
       "      <th>vehicle_style</th>\n",
       "      <th>highway_mpg</th>\n",
       "      <th>city_mpg</th>\n",
       "      <th>popularity</th>\n",
       "      <th>msrp</th>\n",
       "    </tr>\n",
       "  </thead>\n",
       "  <tbody>\n",
       "    <tr>\n",
       "      <th>0</th>\n",
       "      <td>BMW</td>\n",
       "      <td>1 Series M</td>\n",
       "      <td>2011</td>\n",
       "      <td>premium unleaded (required)</td>\n",
       "      <td>335.0</td>\n",
       "      <td>6.0</td>\n",
       "      <td>MANUAL</td>\n",
       "      <td>rear wheel drive</td>\n",
       "      <td>2.0</td>\n",
       "      <td>Factory Tuner,Luxury,High-Performance</td>\n",
       "      <td>Compact</td>\n",
       "      <td>Coupe</td>\n",
       "      <td>26</td>\n",
       "      <td>19</td>\n",
       "      <td>3916</td>\n",
       "      <td>46135</td>\n",
       "    </tr>\n",
       "    <tr>\n",
       "      <th>1</th>\n",
       "      <td>BMW</td>\n",
       "      <td>1 Series</td>\n",
       "      <td>2011</td>\n",
       "      <td>premium unleaded (required)</td>\n",
       "      <td>300.0</td>\n",
       "      <td>6.0</td>\n",
       "      <td>MANUAL</td>\n",
       "      <td>rear wheel drive</td>\n",
       "      <td>2.0</td>\n",
       "      <td>Luxury,Performance</td>\n",
       "      <td>Compact</td>\n",
       "      <td>Convertible</td>\n",
       "      <td>28</td>\n",
       "      <td>19</td>\n",
       "      <td>3916</td>\n",
       "      <td>40650</td>\n",
       "    </tr>\n",
       "    <tr>\n",
       "      <th>2</th>\n",
       "      <td>BMW</td>\n",
       "      <td>1 Series</td>\n",
       "      <td>2011</td>\n",
       "      <td>premium unleaded (required)</td>\n",
       "      <td>300.0</td>\n",
       "      <td>6.0</td>\n",
       "      <td>MANUAL</td>\n",
       "      <td>rear wheel drive</td>\n",
       "      <td>2.0</td>\n",
       "      <td>Luxury,High-Performance</td>\n",
       "      <td>Compact</td>\n",
       "      <td>Coupe</td>\n",
       "      <td>28</td>\n",
       "      <td>20</td>\n",
       "      <td>3916</td>\n",
       "      <td>36350</td>\n",
       "    </tr>\n",
       "    <tr>\n",
       "      <th>3</th>\n",
       "      <td>BMW</td>\n",
       "      <td>1 Series</td>\n",
       "      <td>2011</td>\n",
       "      <td>premium unleaded (required)</td>\n",
       "      <td>230.0</td>\n",
       "      <td>6.0</td>\n",
       "      <td>MANUAL</td>\n",
       "      <td>rear wheel drive</td>\n",
       "      <td>2.0</td>\n",
       "      <td>Luxury,Performance</td>\n",
       "      <td>Compact</td>\n",
       "      <td>Coupe</td>\n",
       "      <td>28</td>\n",
       "      <td>18</td>\n",
       "      <td>3916</td>\n",
       "      <td>29450</td>\n",
       "    </tr>\n",
       "    <tr>\n",
       "      <th>4</th>\n",
       "      <td>BMW</td>\n",
       "      <td>1 Series</td>\n",
       "      <td>2011</td>\n",
       "      <td>premium unleaded (required)</td>\n",
       "      <td>230.0</td>\n",
       "      <td>6.0</td>\n",
       "      <td>MANUAL</td>\n",
       "      <td>rear wheel drive</td>\n",
       "      <td>2.0</td>\n",
       "      <td>Luxury</td>\n",
       "      <td>Compact</td>\n",
       "      <td>Convertible</td>\n",
       "      <td>28</td>\n",
       "      <td>18</td>\n",
       "      <td>3916</td>\n",
       "      <td>34500</td>\n",
       "    </tr>\n",
       "  </tbody>\n",
       "</table>\n",
       "</div>"
      ],
      "text/plain": [
       "  make       model  year             engine_fuel_type  engine_hp  \\\n",
       "0  BMW  1 Series M  2011  premium unleaded (required)      335.0   \n",
       "1  BMW    1 Series  2011  premium unleaded (required)      300.0   \n",
       "2  BMW    1 Series  2011  premium unleaded (required)      300.0   \n",
       "3  BMW    1 Series  2011  premium unleaded (required)      230.0   \n",
       "4  BMW    1 Series  2011  premium unleaded (required)      230.0   \n",
       "\n",
       "   engine_cylinders transmission_type     driven_wheels  number_of_doors  \\\n",
       "0               6.0            MANUAL  rear wheel drive              2.0   \n",
       "1               6.0            MANUAL  rear wheel drive              2.0   \n",
       "2               6.0            MANUAL  rear wheel drive              2.0   \n",
       "3               6.0            MANUAL  rear wheel drive              2.0   \n",
       "4               6.0            MANUAL  rear wheel drive              2.0   \n",
       "\n",
       "                         market_category vehicle_size vehicle_style  \\\n",
       "0  Factory Tuner,Luxury,High-Performance      Compact         Coupe   \n",
       "1                     Luxury,Performance      Compact   Convertible   \n",
       "2                Luxury,High-Performance      Compact         Coupe   \n",
       "3                     Luxury,Performance      Compact         Coupe   \n",
       "4                                 Luxury      Compact   Convertible   \n",
       "\n",
       "   highway_mpg  city_mpg  popularity   msrp  \n",
       "0           26        19        3916  46135  \n",
       "1           28        19        3916  40650  \n",
       "2           28        20        3916  36350  \n",
       "3           28        18        3916  29450  \n",
       "4           28        18        3916  34500  "
      ]
     },
     "execution_count": 3,
     "metadata": {},
     "output_type": "execute_result"
    }
   ],
   "source": [
    "# Column function in pandas\n",
    "df.columns=df.columns.str.lower().str.replace(\" \", \"_\")\n",
    "df.head(5)"
   ]
  },
  {
   "cell_type": "markdown",
   "id": "222caf60",
   "metadata": {},
   "source": [
    "Similar problem is with rows, let's correct them "
   ]
  },
  {
   "cell_type": "code",
   "execution_count": 4,
   "id": "d400b8a4",
   "metadata": {},
   "outputs": [
    {
     "data": {
      "text/plain": [
       "Index(['make', 'model', 'engine_fuel_type', 'transmission_type',\n",
       "       'driven_wheels', 'market_category', 'vehicle_size', 'vehicle_style'],\n",
       "      dtype='object')"
      ]
     },
     "execution_count": 4,
     "metadata": {},
     "output_type": "execute_result"
    }
   ],
   "source": [
    "strings=df.dtypes[df.dtypes=='object'].keys()\n",
    "strings\n",
    "\n",
    "# There methods for this \n",
    "\n",
    "#strings=list(df.dtypes[df.dtypes=='object'].index)"
   ]
  },
  {
   "cell_type": "code",
   "execution_count": 5,
   "id": "8bbbdd23",
   "metadata": {},
   "outputs": [
    {
     "data": {
      "text/html": [
       "<div>\n",
       "<style scoped>\n",
       "    .dataframe tbody tr th:only-of-type {\n",
       "        vertical-align: middle;\n",
       "    }\n",
       "\n",
       "    .dataframe tbody tr th {\n",
       "        vertical-align: top;\n",
       "    }\n",
       "\n",
       "    .dataframe thead th {\n",
       "        text-align: right;\n",
       "    }\n",
       "</style>\n",
       "<table border=\"1\" class=\"dataframe\">\n",
       "  <thead>\n",
       "    <tr style=\"text-align: right;\">\n",
       "      <th></th>\n",
       "      <th>make</th>\n",
       "      <th>model</th>\n",
       "      <th>year</th>\n",
       "      <th>engine_fuel_type</th>\n",
       "      <th>engine_hp</th>\n",
       "      <th>engine_cylinders</th>\n",
       "      <th>transmission_type</th>\n",
       "      <th>driven_wheels</th>\n",
       "      <th>number_of_doors</th>\n",
       "      <th>market_category</th>\n",
       "      <th>vehicle_size</th>\n",
       "      <th>vehicle_style</th>\n",
       "      <th>highway_mpg</th>\n",
       "      <th>city_mpg</th>\n",
       "      <th>popularity</th>\n",
       "      <th>msrp</th>\n",
       "    </tr>\n",
       "  </thead>\n",
       "  <tbody>\n",
       "    <tr>\n",
       "      <th>0</th>\n",
       "      <td>bmw</td>\n",
       "      <td>1_series_m</td>\n",
       "      <td>2011</td>\n",
       "      <td>premium_unleaded_(required)</td>\n",
       "      <td>335.0</td>\n",
       "      <td>6.0</td>\n",
       "      <td>manual</td>\n",
       "      <td>rear_wheel_drive</td>\n",
       "      <td>2.0</td>\n",
       "      <td>factory_tuner,luxury,high-performance</td>\n",
       "      <td>compact</td>\n",
       "      <td>coupe</td>\n",
       "      <td>26</td>\n",
       "      <td>19</td>\n",
       "      <td>3916</td>\n",
       "      <td>46135</td>\n",
       "    </tr>\n",
       "    <tr>\n",
       "      <th>1</th>\n",
       "      <td>bmw</td>\n",
       "      <td>1_series</td>\n",
       "      <td>2011</td>\n",
       "      <td>premium_unleaded_(required)</td>\n",
       "      <td>300.0</td>\n",
       "      <td>6.0</td>\n",
       "      <td>manual</td>\n",
       "      <td>rear_wheel_drive</td>\n",
       "      <td>2.0</td>\n",
       "      <td>luxury,performance</td>\n",
       "      <td>compact</td>\n",
       "      <td>convertible</td>\n",
       "      <td>28</td>\n",
       "      <td>19</td>\n",
       "      <td>3916</td>\n",
       "      <td>40650</td>\n",
       "    </tr>\n",
       "    <tr>\n",
       "      <th>2</th>\n",
       "      <td>bmw</td>\n",
       "      <td>1_series</td>\n",
       "      <td>2011</td>\n",
       "      <td>premium_unleaded_(required)</td>\n",
       "      <td>300.0</td>\n",
       "      <td>6.0</td>\n",
       "      <td>manual</td>\n",
       "      <td>rear_wheel_drive</td>\n",
       "      <td>2.0</td>\n",
       "      <td>luxury,high-performance</td>\n",
       "      <td>compact</td>\n",
       "      <td>coupe</td>\n",
       "      <td>28</td>\n",
       "      <td>20</td>\n",
       "      <td>3916</td>\n",
       "      <td>36350</td>\n",
       "    </tr>\n",
       "    <tr>\n",
       "      <th>3</th>\n",
       "      <td>bmw</td>\n",
       "      <td>1_series</td>\n",
       "      <td>2011</td>\n",
       "      <td>premium_unleaded_(required)</td>\n",
       "      <td>230.0</td>\n",
       "      <td>6.0</td>\n",
       "      <td>manual</td>\n",
       "      <td>rear_wheel_drive</td>\n",
       "      <td>2.0</td>\n",
       "      <td>luxury,performance</td>\n",
       "      <td>compact</td>\n",
       "      <td>coupe</td>\n",
       "      <td>28</td>\n",
       "      <td>18</td>\n",
       "      <td>3916</td>\n",
       "      <td>29450</td>\n",
       "    </tr>\n",
       "    <tr>\n",
       "      <th>4</th>\n",
       "      <td>bmw</td>\n",
       "      <td>1_series</td>\n",
       "      <td>2011</td>\n",
       "      <td>premium_unleaded_(required)</td>\n",
       "      <td>230.0</td>\n",
       "      <td>6.0</td>\n",
       "      <td>manual</td>\n",
       "      <td>rear_wheel_drive</td>\n",
       "      <td>2.0</td>\n",
       "      <td>luxury</td>\n",
       "      <td>compact</td>\n",
       "      <td>convertible</td>\n",
       "      <td>28</td>\n",
       "      <td>18</td>\n",
       "      <td>3916</td>\n",
       "      <td>34500</td>\n",
       "    </tr>\n",
       "  </tbody>\n",
       "</table>\n",
       "</div>"
      ],
      "text/plain": [
       "  make       model  year             engine_fuel_type  engine_hp  \\\n",
       "0  bmw  1_series_m  2011  premium_unleaded_(required)      335.0   \n",
       "1  bmw    1_series  2011  premium_unleaded_(required)      300.0   \n",
       "2  bmw    1_series  2011  premium_unleaded_(required)      300.0   \n",
       "3  bmw    1_series  2011  premium_unleaded_(required)      230.0   \n",
       "4  bmw    1_series  2011  premium_unleaded_(required)      230.0   \n",
       "\n",
       "   engine_cylinders transmission_type     driven_wheels  number_of_doors  \\\n",
       "0               6.0            manual  rear_wheel_drive              2.0   \n",
       "1               6.0            manual  rear_wheel_drive              2.0   \n",
       "2               6.0            manual  rear_wheel_drive              2.0   \n",
       "3               6.0            manual  rear_wheel_drive              2.0   \n",
       "4               6.0            manual  rear_wheel_drive              2.0   \n",
       "\n",
       "                         market_category vehicle_size vehicle_style  \\\n",
       "0  factory_tuner,luxury,high-performance      compact         coupe   \n",
       "1                     luxury,performance      compact   convertible   \n",
       "2                luxury,high-performance      compact         coupe   \n",
       "3                     luxury,performance      compact         coupe   \n",
       "4                                 luxury      compact   convertible   \n",
       "\n",
       "   highway_mpg  city_mpg  popularity   msrp  \n",
       "0           26        19        3916  46135  \n",
       "1           28        19        3916  40650  \n",
       "2           28        20        3916  36350  \n",
       "3           28        18        3916  29450  \n",
       "4           28        18        3916  34500  "
      ]
     },
     "execution_count": 5,
     "metadata": {},
     "output_type": "execute_result"
    }
   ],
   "source": [
    "for i in strings:\n",
    "    df[i]=df[i].str.lower().str.replace(\" \", \"_\")\n",
    "df.head(5)"
   ]
  },
  {
   "cell_type": "markdown",
   "id": "0692c5cd",
   "metadata": {},
   "source": [
    "# Exploratory Data Analysis"
   ]
  },
  {
   "cell_type": "code",
   "execution_count": 6,
   "id": "6c8bbf9e",
   "metadata": {},
   "outputs": [
    {
     "name": "stdout",
     "output_type": "stream",
     "text": [
      "make\n",
      "6049\n",
      "\n",
      "model\n",
      "6049\n",
      "\n",
      "year\n",
      "6049\n",
      "\n",
      "engine_fuel_type\n",
      "6049\n",
      "\n",
      "engine_hp\n",
      "6049\n",
      "\n",
      "engine_cylinders\n",
      "6049\n",
      "\n",
      "transmission_type\n",
      "6049\n",
      "\n",
      "driven_wheels\n",
      "6049\n",
      "\n",
      "number_of_doors\n",
      "6049\n",
      "\n",
      "market_category\n",
      "6049\n",
      "\n",
      "vehicle_size\n",
      "6049\n",
      "\n",
      "vehicle_style\n",
      "6049\n",
      "\n",
      "highway_mpg\n",
      "6049\n",
      "\n",
      "city_mpg\n",
      "6049\n",
      "\n",
      "popularity\n",
      "6049\n",
      "\n",
      "msrp\n",
      "6049\n",
      "\n"
     ]
    }
   ],
   "source": [
    "for col in df.columns:\n",
    "    print(col)\n",
    "    #print(df.msrp.head())\n",
    "    #print(df.msrp.unique()[:5])\n",
    "    print(df.msrp.nunique())\n",
    "    print()"
   ]
  },
  {
   "cell_type": "markdown",
   "id": "7d769aeb",
   "metadata": {},
   "source": [
    "#### Price Distribution "
   ]
  },
  {
   "cell_type": "code",
   "execution_count": 7,
   "id": "3d1c9c16",
   "metadata": {},
   "outputs": [],
   "source": [
    "import matplotlib.pyplot as plt\n",
    "import seaborn as sns\n",
    "\n",
    "%matplotlib inline"
   ]
  },
  {
   "cell_type": "code",
   "execution_count": 8,
   "id": "14682ce1",
   "metadata": {},
   "outputs": [
    {
     "data": {
      "text/plain": [
       "<AxesSubplot:xlabel='msrp', ylabel='Count'>"
      ]
     },
     "execution_count": 8,
     "metadata": {},
     "output_type": "execute_result"
    },
    {
     "data": {
      "image/png": "[encoded data removed]",
      "text/plain": [
       "<Figure size 432x288 with 1 Axes>"
      ]
     },
     "metadata": {
      "needs_background": "light"
     },
     "output_type": "display_data"
    }
   ],
   "source": [
    "#sns.histplot(df.msrp) #It will plot the histogram with defualt bars\n",
    "sns.histplot(df.msrp, bins=50)"
   ]
  },
  {
   "cell_type": "markdown",
   "id": "fbc6abf8",
   "metadata": {},
   "source": [
    "This is <font color='red'>$\\textbf{Long}$ $\\textbf{Tail}$ $\\textbf{distribution}$</font> because all the data is on left side but very little on right. "
   ]
  },
  {
   "cell_type": "code",
   "execution_count": 9,
   "id": "f7e04291",
   "metadata": {},
   "outputs": [
    {
     "data": {
      "text/plain": [
       "<AxesSubplot:xlabel='msrp', ylabel='Count'>"
      ]
     },
     "execution_count": 9,
     "metadata": {},
     "output_type": "execute_result"
    },
    {
     "data": {
      "image/png": "[encoded data removed]",
      "text/plain": [
       "<Figure size 432x288 with 1 Axes>"
      ]
     },
     "metadata": {
      "needs_background": "light"
     },
     "output_type": "display_data"
    }
   ],
   "source": [
    "#Lets remove the tail of it\n",
    "sns.histplot(df.msrp[df.msrp < 100000], bins=50)"
   ]
  },
  {
   "cell_type": "markdown",
   "id": "c1c49145",
   "metadata": {},
   "source": [
    "Still there is a long bar on the left and very small on the right. The solution for this is <font color='Blue'>$\\textbf{Logrithmic}$ $\\textbf{distribution}$</font>. "
   ]
  },
  {
   "cell_type": "code",
   "execution_count": 10,
   "id": "b07a5b02",
   "metadata": {},
   "outputs": [
    {
     "data": {
      "text/plain": [
       "array([ 0.        ,  2.30258509,  4.60517019,  6.90775528, 11.51292546])"
      ]
     },
     "execution_count": 10,
     "metadata": {},
     "output_type": "execute_result"
    }
   ],
   "source": [
    "np.log([1, 10, 100, 1000, 100000])"
   ]
  },
  {
   "cell_type": "markdown",
   "id": "3b4d030f",
   "metadata": {},
   "source": [
    "In <font color='blue'>$\\textbf{np.log}$</font> function we can not have the <font color='blue'>$\\textbf{log}$</font> of <font color='green'>$\\textbf{0}$</font>. So to solve this let's add one to each value."
   ]
  },
  {
   "cell_type": "code",
   "execution_count": 11,
   "id": "55b078fa",
   "metadata": {},
   "outputs": [
    {
     "data": {
      "text/plain": [
       "array([ 0.        ,  0.69314718,  2.39789527,  4.61512052,  6.90875478,\n",
       "       11.51293546])"
      ]
     },
     "execution_count": 11,
     "metadata": {},
     "output_type": "execute_result"
    }
   ],
   "source": [
    "np.log([0+1, 1+1, 10+1, 100+1, 1000+1, 100000+1])"
   ]
  },
  {
   "cell_type": "markdown",
   "id": "b8c7bc1e",
   "metadata": {},
   "source": [
    "Adding to every value could be tiresome. Fortunately we have built in funtion of Numpy to do the same for us."
   ]
  },
  {
   "cell_type": "code",
   "execution_count": 12,
   "id": "2b5ee7a8",
   "metadata": {},
   "outputs": [
    {
     "data": {
      "text/plain": [
       "array([ 0.        ,  0.69314718,  2.39789527,  4.61512052,  6.90875478,\n",
       "       11.51293546])"
      ]
     },
     "execution_count": 12,
     "metadata": {},
     "output_type": "execute_result"
    }
   ],
   "source": [
    "np.log1p([0, 1, 10, 100, 1000, 100000])"
   ]
  },
  {
   "cell_type": "markdown",
   "id": "8e7f6cea",
   "metadata": {},
   "source": [
    "I have the same results as above. "
   ]
  },
  {
   "cell_type": "code",
   "execution_count": 13,
   "id": "332fda81",
   "metadata": {},
   "outputs": [
    {
     "data": {
      "text/plain": [
       "array([10.73934884, 10.61277871, 10.50097699, ..., 10.83212179,\n",
       "       10.83803069, 10.27491317])"
      ]
     },
     "execution_count": 13,
     "metadata": {},
     "output_type": "execute_result"
    }
   ],
   "source": [
    "#Lets put the price column in this function\n",
    "#price_logs=np.log1p([df.msrp])\n",
    "price_logs=np.log1p(df.msrp.values)\n",
    "price_logs"
   ]
  },
  {
   "cell_type": "code",
   "execution_count": 14,
   "id": "44186519",
   "metadata": {},
   "outputs": [
    {
     "data": {
      "text/plain": [
       "<AxesSubplot:ylabel='Count'>"
      ]
     },
     "execution_count": 14,
     "metadata": {},
     "output_type": "execute_result"
    },
    {
     "data": {
      "image/png": "[encoded data removed]",
      "text/plain": [
       "<Figure size 432x288 with 1 Axes>"
      ]
     },
     "metadata": {
      "needs_background": "light"
     },
     "output_type": "display_data"
    }
   ],
   "source": [
    "#Lets draw it again now\n",
    "sns.histplot(price_logs, bins=50, color='g')\n"
   ]
  },
  {
   "cell_type": "markdown",
   "id": "011d3787",
   "metadata": {},
   "source": [
    "Now the $\\textbf{Long Tail}$ is gone and the shape of the bars resembles with normal distribution. "
   ]
  },
  {
   "cell_type": "code",
   "execution_count": 15,
   "id": "13498319",
   "metadata": {},
   "outputs": [
    {
     "data": {
      "text/html": [
       "<div>\n",
       "<style scoped>\n",
       "    .dataframe tbody tr th:only-of-type {\n",
       "        vertical-align: middle;\n",
       "    }\n",
       "\n",
       "    .dataframe tbody tr th {\n",
       "        vertical-align: top;\n",
       "    }\n",
       "\n",
       "    .dataframe thead th {\n",
       "        text-align: right;\n",
       "    }\n",
       "</style>\n",
       "<table border=\"1\" class=\"dataframe\">\n",
       "  <thead>\n",
       "    <tr style=\"text-align: right;\">\n",
       "      <th></th>\n",
       "      <th>make</th>\n",
       "      <th>model</th>\n",
       "      <th>year</th>\n",
       "      <th>engine_fuel_type</th>\n",
       "      <th>engine_hp</th>\n",
       "      <th>engine_cylinders</th>\n",
       "      <th>transmission_type</th>\n",
       "      <th>driven_wheels</th>\n",
       "      <th>number_of_doors</th>\n",
       "      <th>market_category</th>\n",
       "      <th>vehicle_size</th>\n",
       "      <th>vehicle_style</th>\n",
       "      <th>highway_mpg</th>\n",
       "      <th>city_mpg</th>\n",
       "      <th>popularity</th>\n",
       "      <th>msrp</th>\n",
       "    </tr>\n",
       "  </thead>\n",
       "  <tbody>\n",
       "    <tr>\n",
       "      <th>0</th>\n",
       "      <td>False</td>\n",
       "      <td>False</td>\n",
       "      <td>False</td>\n",
       "      <td>False</td>\n",
       "      <td>False</td>\n",
       "      <td>False</td>\n",
       "      <td>False</td>\n",
       "      <td>False</td>\n",
       "      <td>False</td>\n",
       "      <td>False</td>\n",
       "      <td>False</td>\n",
       "      <td>False</td>\n",
       "      <td>False</td>\n",
       "      <td>False</td>\n",
       "      <td>False</td>\n",
       "      <td>False</td>\n",
       "    </tr>\n",
       "    <tr>\n",
       "      <th>1</th>\n",
       "      <td>False</td>\n",
       "      <td>False</td>\n",
       "      <td>False</td>\n",
       "      <td>False</td>\n",
       "      <td>False</td>\n",
       "      <td>False</td>\n",
       "      <td>False</td>\n",
       "      <td>False</td>\n",
       "      <td>False</td>\n",
       "      <td>False</td>\n",
       "      <td>False</td>\n",
       "      <td>False</td>\n",
       "      <td>False</td>\n",
       "      <td>False</td>\n",
       "      <td>False</td>\n",
       "      <td>False</td>\n",
       "    </tr>\n",
       "    <tr>\n",
       "      <th>2</th>\n",
       "      <td>False</td>\n",
       "      <td>False</td>\n",
       "      <td>False</td>\n",
       "      <td>False</td>\n",
       "      <td>False</td>\n",
       "      <td>False</td>\n",
       "      <td>False</td>\n",
       "      <td>False</td>\n",
       "      <td>False</td>\n",
       "      <td>False</td>\n",
       "      <td>False</td>\n",
       "      <td>False</td>\n",
       "      <td>False</td>\n",
       "      <td>False</td>\n",
       "      <td>False</td>\n",
       "      <td>False</td>\n",
       "    </tr>\n",
       "    <tr>\n",
       "      <th>3</th>\n",
       "      <td>False</td>\n",
       "      <td>False</td>\n",
       "      <td>False</td>\n",
       "      <td>False</td>\n",
       "      <td>False</td>\n",
       "      <td>False</td>\n",
       "      <td>False</td>\n",
       "      <td>False</td>\n",
       "      <td>False</td>\n",
       "      <td>False</td>\n",
       "      <td>False</td>\n",
       "      <td>False</td>\n",
       "      <td>False</td>\n",
       "      <td>False</td>\n",
       "      <td>False</td>\n",
       "      <td>False</td>\n",
       "    </tr>\n",
       "    <tr>\n",
       "      <th>4</th>\n",
       "      <td>False</td>\n",
       "      <td>False</td>\n",
       "      <td>False</td>\n",
       "      <td>False</td>\n",
       "      <td>False</td>\n",
       "      <td>False</td>\n",
       "      <td>False</td>\n",
       "      <td>False</td>\n",
       "      <td>False</td>\n",
       "      <td>False</td>\n",
       "      <td>False</td>\n",
       "      <td>False</td>\n",
       "      <td>False</td>\n",
       "      <td>False</td>\n",
       "      <td>False</td>\n",
       "      <td>False</td>\n",
       "    </tr>\n",
       "  </tbody>\n",
       "</table>\n",
       "</div>"
      ],
      "text/plain": [
       "    make  model   year  engine_fuel_type  engine_hp  engine_cylinders  \\\n",
       "0  False  False  False             False      False             False   \n",
       "1  False  False  False             False      False             False   \n",
       "2  False  False  False             False      False             False   \n",
       "3  False  False  False             False      False             False   \n",
       "4  False  False  False             False      False             False   \n",
       "\n",
       "   transmission_type  driven_wheels  number_of_doors  market_category  \\\n",
       "0              False          False            False            False   \n",
       "1              False          False            False            False   \n",
       "2              False          False            False            False   \n",
       "3              False          False            False            False   \n",
       "4              False          False            False            False   \n",
       "\n",
       "   vehicle_size  vehicle_style  highway_mpg  city_mpg  popularity   msrp  \n",
       "0         False          False        False     False       False  False  \n",
       "1         False          False        False     False       False  False  \n",
       "2         False          False        False     False       False  False  \n",
       "3         False          False        False     False       False  False  \n",
       "4         False          False        False     False       False  False  "
      ]
     },
     "execution_count": 15,
     "metadata": {},
     "output_type": "execute_result"
    }
   ],
   "source": [
    "#Finding the Missing Values from Column\n",
    "df.isnull().head(5)"
   ]
  },
  {
   "cell_type": "code",
   "execution_count": 16,
   "id": "60a00ec0",
   "metadata": {},
   "outputs": [
    {
     "data": {
      "text/plain": [
       "make                    0\n",
       "model                   0\n",
       "year                    0\n",
       "engine_fuel_type        3\n",
       "engine_hp              69\n",
       "engine_cylinders       30\n",
       "transmission_type       0\n",
       "driven_wheels           0\n",
       "number_of_doors         6\n",
       "market_category      3742\n",
       "vehicle_size            0\n",
       "vehicle_style           0\n",
       "highway_mpg             0\n",
       "city_mpg                0\n",
       "popularity              0\n",
       "msrp                    0\n",
       "dtype: int64"
      ]
     },
     "execution_count": 16,
     "metadata": {},
     "output_type": "execute_result"
    }
   ],
   "source": [
    "#Let's make it more useful\n",
    "df.isnull().sum()\n",
    "#Below is the summary of Missing values from Columns"
   ]
  },
  {
   "cell_type": "markdown",
   "id": "74df66be",
   "metadata": {},
   "source": [
    "# Setting Up Data for Model/ Setting Up Validation Framwork "
   ]
  },
  {
   "cell_type": "code",
   "execution_count": 17,
   "id": "19aa7c71",
   "metadata": {},
   "outputs": [
    {
     "data": {
      "text/plain": [
       "11914"
      ]
     },
     "execution_count": 17,
     "metadata": {},
     "output_type": "execute_result"
    }
   ],
   "source": [
    "#Total Number of Rows in our dataset\n",
    "n=len(df)\n",
    "n"
   ]
  },
  {
   "cell_type": "markdown",
   "id": "35b23fbb",
   "metadata": {},
   "source": [
    "Conventionaly we split data: Training=60%, Validation=20%, Testing=20% "
   ]
  },
  {
   "cell_type": "code",
   "execution_count": 18,
   "id": "bccf7975",
   "metadata": {},
   "outputs": [],
   "source": [
    "val_data=int(n*0.2)\n",
    "test_data=int(n*0.2)\n",
    "train_data=n-val_data-test_data"
   ]
  },
  {
   "cell_type": "code",
   "execution_count": 19,
   "id": "575b7b45",
   "metadata": {},
   "outputs": [
    {
     "data": {
      "text/plain": [
       "(11914, 11914)"
      ]
     },
     "execution_count": 19,
     "metadata": {},
     "output_type": "execute_result"
    }
   ],
   "source": [
    "n, val_data+test_data+train_data "
   ]
  },
  {
   "cell_type": "code",
   "execution_count": 20,
   "id": "12d130bb",
   "metadata": {},
   "outputs": [
    {
     "data": {
      "text/plain": [
       "(2382, 2382, 7150)"
      ]
     },
     "execution_count": 20,
     "metadata": {},
     "output_type": "execute_result"
    }
   ],
   "source": [
    "val_data, test_data, train_data"
   ]
  },
  {
   "cell_type": "markdown",
   "id": "92864705",
   "metadata": {},
   "source": [
    "The upper split cannot differentiate which data will be for validation or test or train. It will serve the data again to next split even it was served to previous. "
   ]
  },
  {
   "cell_type": "code",
   "execution_count": 21,
   "id": "8ee65f4c",
   "metadata": {},
   "outputs": [
    {
     "data": {
      "text/html": [
       "<div>\n",
       "<style scoped>\n",
       "    .dataframe tbody tr th:only-of-type {\n",
       "        vertical-align: middle;\n",
       "    }\n",
       "\n",
       "    .dataframe tbody tr th {\n",
       "        vertical-align: top;\n",
       "    }\n",
       "\n",
       "    .dataframe thead th {\n",
       "        text-align: right;\n",
       "    }\n",
       "</style>\n",
       "<table border=\"1\" class=\"dataframe\">\n",
       "  <thead>\n",
       "    <tr style=\"text-align: right;\">\n",
       "      <th></th>\n",
       "      <th>make</th>\n",
       "      <th>model</th>\n",
       "      <th>year</th>\n",
       "      <th>engine_fuel_type</th>\n",
       "      <th>engine_hp</th>\n",
       "      <th>engine_cylinders</th>\n",
       "      <th>transmission_type</th>\n",
       "      <th>driven_wheels</th>\n",
       "      <th>number_of_doors</th>\n",
       "      <th>market_category</th>\n",
       "      <th>vehicle_size</th>\n",
       "      <th>vehicle_style</th>\n",
       "      <th>highway_mpg</th>\n",
       "      <th>city_mpg</th>\n",
       "      <th>popularity</th>\n",
       "      <th>msrp</th>\n",
       "    </tr>\n",
       "  </thead>\n",
       "  <tbody>\n",
       "    <tr>\n",
       "      <th>0</th>\n",
       "      <td>bmw</td>\n",
       "      <td>1_series_m</td>\n",
       "      <td>2011</td>\n",
       "      <td>premium_unleaded_(required)</td>\n",
       "      <td>335.0</td>\n",
       "      <td>6.0</td>\n",
       "      <td>manual</td>\n",
       "      <td>rear_wheel_drive</td>\n",
       "      <td>2.0</td>\n",
       "      <td>factory_tuner,luxury,high-performance</td>\n",
       "      <td>compact</td>\n",
       "      <td>coupe</td>\n",
       "      <td>26</td>\n",
       "      <td>19</td>\n",
       "      <td>3916</td>\n",
       "      <td>46135</td>\n",
       "    </tr>\n",
       "    <tr>\n",
       "      <th>1</th>\n",
       "      <td>bmw</td>\n",
       "      <td>1_series</td>\n",
       "      <td>2011</td>\n",
       "      <td>premium_unleaded_(required)</td>\n",
       "      <td>300.0</td>\n",
       "      <td>6.0</td>\n",
       "      <td>manual</td>\n",
       "      <td>rear_wheel_drive</td>\n",
       "      <td>2.0</td>\n",
       "      <td>luxury,performance</td>\n",
       "      <td>compact</td>\n",
       "      <td>convertible</td>\n",
       "      <td>28</td>\n",
       "      <td>19</td>\n",
       "      <td>3916</td>\n",
       "      <td>40650</td>\n",
       "    </tr>\n",
       "    <tr>\n",
       "      <th>2</th>\n",
       "      <td>bmw</td>\n",
       "      <td>1_series</td>\n",
       "      <td>2011</td>\n",
       "      <td>premium_unleaded_(required)</td>\n",
       "      <td>300.0</td>\n",
       "      <td>6.0</td>\n",
       "      <td>manual</td>\n",
       "      <td>rear_wheel_drive</td>\n",
       "      <td>2.0</td>\n",
       "      <td>luxury,high-performance</td>\n",
       "      <td>compact</td>\n",
       "      <td>coupe</td>\n",
       "      <td>28</td>\n",
       "      <td>20</td>\n",
       "      <td>3916</td>\n",
       "      <td>36350</td>\n",
       "    </tr>\n",
       "    <tr>\n",
       "      <th>3</th>\n",
       "      <td>bmw</td>\n",
       "      <td>1_series</td>\n",
       "      <td>2011</td>\n",
       "      <td>premium_unleaded_(required)</td>\n",
       "      <td>230.0</td>\n",
       "      <td>6.0</td>\n",
       "      <td>manual</td>\n",
       "      <td>rear_wheel_drive</td>\n",
       "      <td>2.0</td>\n",
       "      <td>luxury,performance</td>\n",
       "      <td>compact</td>\n",
       "      <td>coupe</td>\n",
       "      <td>28</td>\n",
       "      <td>18</td>\n",
       "      <td>3916</td>\n",
       "      <td>29450</td>\n",
       "    </tr>\n",
       "    <tr>\n",
       "      <th>4</th>\n",
       "      <td>bmw</td>\n",
       "      <td>1_series</td>\n",
       "      <td>2011</td>\n",
       "      <td>premium_unleaded_(required)</td>\n",
       "      <td>230.0</td>\n",
       "      <td>6.0</td>\n",
       "      <td>manual</td>\n",
       "      <td>rear_wheel_drive</td>\n",
       "      <td>2.0</td>\n",
       "      <td>luxury</td>\n",
       "      <td>compact</td>\n",
       "      <td>convertible</td>\n",
       "      <td>28</td>\n",
       "      <td>18</td>\n",
       "      <td>3916</td>\n",
       "      <td>34500</td>\n",
       "    </tr>\n",
       "  </tbody>\n",
       "</table>\n",
       "</div>"
      ],
      "text/plain": [
       "  make       model  year             engine_fuel_type  engine_hp  \\\n",
       "0  bmw  1_series_m  2011  premium_unleaded_(required)      335.0   \n",
       "1  bmw    1_series  2011  premium_unleaded_(required)      300.0   \n",
       "2  bmw    1_series  2011  premium_unleaded_(required)      300.0   \n",
       "3  bmw    1_series  2011  premium_unleaded_(required)      230.0   \n",
       "4  bmw    1_series  2011  premium_unleaded_(required)      230.0   \n",
       "\n",
       "   engine_cylinders transmission_type     driven_wheels  number_of_doors  \\\n",
       "0               6.0            manual  rear_wheel_drive              2.0   \n",
       "1               6.0            manual  rear_wheel_drive              2.0   \n",
       "2               6.0            manual  rear_wheel_drive              2.0   \n",
       "3               6.0            manual  rear_wheel_drive              2.0   \n",
       "4               6.0            manual  rear_wheel_drive              2.0   \n",
       "\n",
       "                         market_category vehicle_size vehicle_style  \\\n",
       "0  factory_tuner,luxury,high-performance      compact         coupe   \n",
       "1                     luxury,performance      compact   convertible   \n",
       "2                luxury,high-performance      compact         coupe   \n",
       "3                     luxury,performance      compact         coupe   \n",
       "4                                 luxury      compact   convertible   \n",
       "\n",
       "   highway_mpg  city_mpg  popularity   msrp  \n",
       "0           26        19        3916  46135  \n",
       "1           28        19        3916  40650  \n",
       "2           28        20        3916  36350  \n",
       "3           28        18        3916  29450  \n",
       "4           28        18        3916  34500  "
      ]
     },
     "execution_count": 21,
     "metadata": {},
     "output_type": "execute_result"
    }
   ],
   "source": [
    "#The following method for to seperate data for train, val and test\n",
    "\n",
    "df_train=df.iloc[:train_data] #it will go to strat to end of train data which is 7150th row\n",
    "df_val=df.iloc[train_data:train_data+val_data]  #starts from 7150th row and end at 7150+2382 th row\n",
    "df_test=df.iloc[train_data+val_data:]  #starts from 7150+2382 th row and end is all the remaining data (which is 7150+2382+2382)\n",
    "df_train.head(5)"
   ]
  },
  {
   "cell_type": "markdown",
   "id": "a8d7347a",
   "metadata": {},
   "source": [
    "I still have problem with this data: this is a sequential data and follows an order. All the BMWs are in the training and porche in validation and other in testing.\n",
    "\n",
    "The first thing is to break the order of our data and shuffles the rows so they can divided into all three portions. "
   ]
  },
  {
   "cell_type": "code",
   "execution_count": 22,
   "id": "44d17c5b",
   "metadata": {},
   "outputs": [],
   "source": [
    "# use a numpy function called arange\n",
    "\n",
    "idx=np.arange(n) #n is the length of our dataset len(df)\n",
    "\n",
    "#Now we can shuffle these indexes by using numpy random.shuffle function\n",
    "np.random.seed(2)  #it will produce the same values runing every time\n",
    "np.random.shuffle(idx)  #indexs shuffled (means rows are shuffled)"
   ]
  },
  {
   "cell_type": "code",
   "execution_count": 23,
   "id": "882150d0",
   "metadata": {},
   "outputs": [],
   "source": [
    "# now add index to all of the portions \n",
    "\n",
    "\n",
    "df_train=df.iloc[idx[:train_data]] #it will go to strat to end of train data which is 7150th row\n",
    "df_val=df.iloc[idx[train_data:train_data+val_data]]  #starts from 7150th row and end at 7150+2382 th row\n",
    "df_test=df.iloc[idx[train_data+val_data:]]  #starts from 7150+2382 th row and end is all the remaining data (which is 7150+2382+2382)"
   ]
  },
  {
   "cell_type": "code",
   "execution_count": 24,
   "id": "6bbaea14",
   "metadata": {},
   "outputs": [
    {
     "data": {
      "text/html": [
       "<div>\n",
       "<style scoped>\n",
       "    .dataframe tbody tr th:only-of-type {\n",
       "        vertical-align: middle;\n",
       "    }\n",
       "\n",
       "    .dataframe tbody tr th {\n",
       "        vertical-align: top;\n",
       "    }\n",
       "\n",
       "    .dataframe thead th {\n",
       "        text-align: right;\n",
       "    }\n",
       "</style>\n",
       "<table border=\"1\" class=\"dataframe\">\n",
       "  <thead>\n",
       "    <tr style=\"text-align: right;\">\n",
       "      <th></th>\n",
       "      <th>make</th>\n",
       "      <th>model</th>\n",
       "      <th>year</th>\n",
       "      <th>engine_fuel_type</th>\n",
       "      <th>engine_hp</th>\n",
       "      <th>engine_cylinders</th>\n",
       "      <th>transmission_type</th>\n",
       "      <th>driven_wheels</th>\n",
       "      <th>number_of_doors</th>\n",
       "      <th>market_category</th>\n",
       "      <th>vehicle_size</th>\n",
       "      <th>vehicle_style</th>\n",
       "      <th>highway_mpg</th>\n",
       "      <th>city_mpg</th>\n",
       "      <th>popularity</th>\n",
       "      <th>msrp</th>\n",
       "    </tr>\n",
       "  </thead>\n",
       "  <tbody>\n",
       "    <tr>\n",
       "      <th>2735</th>\n",
       "      <td>chevrolet</td>\n",
       "      <td>cobalt</td>\n",
       "      <td>2008</td>\n",
       "      <td>regular_unleaded</td>\n",
       "      <td>148.0</td>\n",
       "      <td>4.0</td>\n",
       "      <td>manual</td>\n",
       "      <td>front_wheel_drive</td>\n",
       "      <td>2.0</td>\n",
       "      <td>NaN</td>\n",
       "      <td>compact</td>\n",
       "      <td>coupe</td>\n",
       "      <td>33</td>\n",
       "      <td>24</td>\n",
       "      <td>1385</td>\n",
       "      <td>14410</td>\n",
       "    </tr>\n",
       "    <tr>\n",
       "      <th>6720</th>\n",
       "      <td>toyota</td>\n",
       "      <td>matrix</td>\n",
       "      <td>2012</td>\n",
       "      <td>regular_unleaded</td>\n",
       "      <td>132.0</td>\n",
       "      <td>4.0</td>\n",
       "      <td>automatic</td>\n",
       "      <td>front_wheel_drive</td>\n",
       "      <td>4.0</td>\n",
       "      <td>hatchback</td>\n",
       "      <td>compact</td>\n",
       "      <td>4dr_hatchback</td>\n",
       "      <td>32</td>\n",
       "      <td>25</td>\n",
       "      <td>2031</td>\n",
       "      <td>19685</td>\n",
       "    </tr>\n",
       "    <tr>\n",
       "      <th>5878</th>\n",
       "      <td>subaru</td>\n",
       "      <td>impreza</td>\n",
       "      <td>2016</td>\n",
       "      <td>regular_unleaded</td>\n",
       "      <td>148.0</td>\n",
       "      <td>4.0</td>\n",
       "      <td>automatic</td>\n",
       "      <td>all_wheel_drive</td>\n",
       "      <td>4.0</td>\n",
       "      <td>hatchback</td>\n",
       "      <td>compact</td>\n",
       "      <td>4dr_hatchback</td>\n",
       "      <td>37</td>\n",
       "      <td>28</td>\n",
       "      <td>640</td>\n",
       "      <td>19795</td>\n",
       "    </tr>\n",
       "    <tr>\n",
       "      <th>11190</th>\n",
       "      <td>volkswagen</td>\n",
       "      <td>vanagon</td>\n",
       "      <td>1991</td>\n",
       "      <td>regular_unleaded</td>\n",
       "      <td>90.0</td>\n",
       "      <td>4.0</td>\n",
       "      <td>manual</td>\n",
       "      <td>rear_wheel_drive</td>\n",
       "      <td>3.0</td>\n",
       "      <td>NaN</td>\n",
       "      <td>large</td>\n",
       "      <td>passenger_minivan</td>\n",
       "      <td>18</td>\n",
       "      <td>16</td>\n",
       "      <td>873</td>\n",
       "      <td>2000</td>\n",
       "    </tr>\n",
       "    <tr>\n",
       "      <th>4554</th>\n",
       "      <td>ford</td>\n",
       "      <td>f-150</td>\n",
       "      <td>2017</td>\n",
       "      <td>flex-fuel_(unleaded/e85)</td>\n",
       "      <td>385.0</td>\n",
       "      <td>8.0</td>\n",
       "      <td>automatic</td>\n",
       "      <td>four_wheel_drive</td>\n",
       "      <td>4.0</td>\n",
       "      <td>flex_fuel</td>\n",
       "      <td>large</td>\n",
       "      <td>crew_cab_pickup</td>\n",
       "      <td>21</td>\n",
       "      <td>15</td>\n",
       "      <td>5657</td>\n",
       "      <td>56260</td>\n",
       "    </tr>\n",
       "  </tbody>\n",
       "</table>\n",
       "</div>"
      ],
      "text/plain": [
       "             make    model  year          engine_fuel_type  engine_hp  \\\n",
       "2735    chevrolet   cobalt  2008          regular_unleaded      148.0   \n",
       "6720       toyota   matrix  2012          regular_unleaded      132.0   \n",
       "5878       subaru  impreza  2016          regular_unleaded      148.0   \n",
       "11190  volkswagen  vanagon  1991          regular_unleaded       90.0   \n",
       "4554         ford    f-150  2017  flex-fuel_(unleaded/e85)      385.0   \n",
       "\n",
       "       engine_cylinders transmission_type      driven_wheels  number_of_doors  \\\n",
       "2735                4.0            manual  front_wheel_drive              2.0   \n",
       "6720                4.0         automatic  front_wheel_drive              4.0   \n",
       "5878                4.0         automatic    all_wheel_drive              4.0   \n",
       "11190               4.0            manual   rear_wheel_drive              3.0   \n",
       "4554                8.0         automatic   four_wheel_drive              4.0   \n",
       "\n",
       "      market_category vehicle_size      vehicle_style  highway_mpg  city_mpg  \\\n",
       "2735              NaN      compact              coupe           33        24   \n",
       "6720        hatchback      compact      4dr_hatchback           32        25   \n",
       "5878        hatchback      compact      4dr_hatchback           37        28   \n",
       "11190             NaN        large  passenger_minivan           18        16   \n",
       "4554        flex_fuel        large    crew_cab_pickup           21        15   \n",
       "\n",
       "       popularity   msrp  \n",
       "2735         1385  14410  \n",
       "6720         2031  19685  \n",
       "5878          640  19795  \n",
       "11190         873   2000  \n",
       "4554         5657  56260  "
      ]
     },
     "execution_count": 24,
     "metadata": {},
     "output_type": "execute_result"
    }
   ],
   "source": [
    "df_train.head(5)"
   ]
  },
  {
   "cell_type": "markdown",
   "id": "ee2e14af",
   "metadata": {},
   "source": [
    "For me the index is not good, it don't look smooth, let's reset it."
   ]
  },
  {
   "cell_type": "code",
   "execution_count": 25,
   "id": "db3ee39b",
   "metadata": {},
   "outputs": [
    {
     "data": {
      "text/html": [
       "<div>\n",
       "<style scoped>\n",
       "    .dataframe tbody tr th:only-of-type {\n",
       "        vertical-align: middle;\n",
       "    }\n",
       "\n",
       "    .dataframe tbody tr th {\n",
       "        vertical-align: top;\n",
       "    }\n",
       "\n",
       "    .dataframe thead th {\n",
       "        text-align: right;\n",
       "    }\n",
       "</style>\n",
       "<table border=\"1\" class=\"dataframe\">\n",
       "  <thead>\n",
       "    <tr style=\"text-align: right;\">\n",
       "      <th></th>\n",
       "      <th>index</th>\n",
       "      <th>make</th>\n",
       "      <th>model</th>\n",
       "      <th>year</th>\n",
       "      <th>engine_fuel_type</th>\n",
       "      <th>engine_hp</th>\n",
       "      <th>engine_cylinders</th>\n",
       "      <th>transmission_type</th>\n",
       "      <th>driven_wheels</th>\n",
       "      <th>number_of_doors</th>\n",
       "      <th>market_category</th>\n",
       "      <th>vehicle_size</th>\n",
       "      <th>vehicle_style</th>\n",
       "      <th>highway_mpg</th>\n",
       "      <th>city_mpg</th>\n",
       "      <th>popularity</th>\n",
       "      <th>msrp</th>\n",
       "    </tr>\n",
       "  </thead>\n",
       "  <tbody>\n",
       "    <tr>\n",
       "      <th>0</th>\n",
       "      <td>2735</td>\n",
       "      <td>chevrolet</td>\n",
       "      <td>cobalt</td>\n",
       "      <td>2008</td>\n",
       "      <td>regular_unleaded</td>\n",
       "      <td>148.0</td>\n",
       "      <td>4.0</td>\n",
       "      <td>manual</td>\n",
       "      <td>front_wheel_drive</td>\n",
       "      <td>2.0</td>\n",
       "      <td>NaN</td>\n",
       "      <td>compact</td>\n",
       "      <td>coupe</td>\n",
       "      <td>33</td>\n",
       "      <td>24</td>\n",
       "      <td>1385</td>\n",
       "      <td>14410</td>\n",
       "    </tr>\n",
       "    <tr>\n",
       "      <th>1</th>\n",
       "      <td>6720</td>\n",
       "      <td>toyota</td>\n",
       "      <td>matrix</td>\n",
       "      <td>2012</td>\n",
       "      <td>regular_unleaded</td>\n",
       "      <td>132.0</td>\n",
       "      <td>4.0</td>\n",
       "      <td>automatic</td>\n",
       "      <td>front_wheel_drive</td>\n",
       "      <td>4.0</td>\n",
       "      <td>hatchback</td>\n",
       "      <td>compact</td>\n",
       "      <td>4dr_hatchback</td>\n",
       "      <td>32</td>\n",
       "      <td>25</td>\n",
       "      <td>2031</td>\n",
       "      <td>19685</td>\n",
       "    </tr>\n",
       "    <tr>\n",
       "      <th>2</th>\n",
       "      <td>5878</td>\n",
       "      <td>subaru</td>\n",
       "      <td>impreza</td>\n",
       "      <td>2016</td>\n",
       "      <td>regular_unleaded</td>\n",
       "      <td>148.0</td>\n",
       "      <td>4.0</td>\n",
       "      <td>automatic</td>\n",
       "      <td>all_wheel_drive</td>\n",
       "      <td>4.0</td>\n",
       "      <td>hatchback</td>\n",
       "      <td>compact</td>\n",
       "      <td>4dr_hatchback</td>\n",
       "      <td>37</td>\n",
       "      <td>28</td>\n",
       "      <td>640</td>\n",
       "      <td>19795</td>\n",
       "    </tr>\n",
       "    <tr>\n",
       "      <th>3</th>\n",
       "      <td>11190</td>\n",
       "      <td>volkswagen</td>\n",
       "      <td>vanagon</td>\n",
       "      <td>1991</td>\n",
       "      <td>regular_unleaded</td>\n",
       "      <td>90.0</td>\n",
       "      <td>4.0</td>\n",
       "      <td>manual</td>\n",
       "      <td>rear_wheel_drive</td>\n",
       "      <td>3.0</td>\n",
       "      <td>NaN</td>\n",
       "      <td>large</td>\n",
       "      <td>passenger_minivan</td>\n",
       "      <td>18</td>\n",
       "      <td>16</td>\n",
       "      <td>873</td>\n",
       "      <td>2000</td>\n",
       "    </tr>\n",
       "    <tr>\n",
       "      <th>4</th>\n",
       "      <td>4554</td>\n",
       "      <td>ford</td>\n",
       "      <td>f-150</td>\n",
       "      <td>2017</td>\n",
       "      <td>flex-fuel_(unleaded/e85)</td>\n",
       "      <td>385.0</td>\n",
       "      <td>8.0</td>\n",
       "      <td>automatic</td>\n",
       "      <td>four_wheel_drive</td>\n",
       "      <td>4.0</td>\n",
       "      <td>flex_fuel</td>\n",
       "      <td>large</td>\n",
       "      <td>crew_cab_pickup</td>\n",
       "      <td>21</td>\n",
       "      <td>15</td>\n",
       "      <td>5657</td>\n",
       "      <td>56260</td>\n",
       "    </tr>\n",
       "    <tr>\n",
       "      <th>...</th>\n",
       "      <td>...</td>\n",
       "      <td>...</td>\n",
       "      <td>...</td>\n",
       "      <td>...</td>\n",
       "      <td>...</td>\n",
       "      <td>...</td>\n",
       "      <td>...</td>\n",
       "      <td>...</td>\n",
       "      <td>...</td>\n",
       "      <td>...</td>\n",
       "      <td>...</td>\n",
       "      <td>...</td>\n",
       "      <td>...</td>\n",
       "      <td>...</td>\n",
       "      <td>...</td>\n",
       "      <td>...</td>\n",
       "      <td>...</td>\n",
       "    </tr>\n",
       "    <tr>\n",
       "      <th>7145</th>\n",
       "      <td>434</td>\n",
       "      <td>bmw</td>\n",
       "      <td>4_series</td>\n",
       "      <td>2015</td>\n",
       "      <td>premium_unleaded_(required)</td>\n",
       "      <td>300.0</td>\n",
       "      <td>6.0</td>\n",
       "      <td>automatic</td>\n",
       "      <td>rear_wheel_drive</td>\n",
       "      <td>2.0</td>\n",
       "      <td>luxury,performance</td>\n",
       "      <td>midsize</td>\n",
       "      <td>convertible</td>\n",
       "      <td>31</td>\n",
       "      <td>20</td>\n",
       "      <td>3916</td>\n",
       "      <td>54900</td>\n",
       "    </tr>\n",
       "    <tr>\n",
       "      <th>7146</th>\n",
       "      <td>1902</td>\n",
       "      <td>volkswagen</td>\n",
       "      <td>beetle</td>\n",
       "      <td>2015</td>\n",
       "      <td>premium_unleaded_(recommended)</td>\n",
       "      <td>210.0</td>\n",
       "      <td>4.0</td>\n",
       "      <td>automated_manual</td>\n",
       "      <td>front_wheel_drive</td>\n",
       "      <td>2.0</td>\n",
       "      <td>hatchback,performance</td>\n",
       "      <td>compact</td>\n",
       "      <td>2dr_hatchback</td>\n",
       "      <td>30</td>\n",
       "      <td>24</td>\n",
       "      <td>873</td>\n",
       "      <td>29215</td>\n",
       "    </tr>\n",
       "    <tr>\n",
       "      <th>7147</th>\n",
       "      <td>9334</td>\n",
       "      <td>gmc</td>\n",
       "      <td>sierra_1500</td>\n",
       "      <td>2015</td>\n",
       "      <td>flex-fuel_(unleaded/e85)</td>\n",
       "      <td>285.0</td>\n",
       "      <td>6.0</td>\n",
       "      <td>automatic</td>\n",
       "      <td>four_wheel_drive</td>\n",
       "      <td>4.0</td>\n",
       "      <td>flex_fuel</td>\n",
       "      <td>large</td>\n",
       "      <td>extended_cab_pickup</td>\n",
       "      <td>22</td>\n",
       "      <td>17</td>\n",
       "      <td>549</td>\n",
       "      <td>34675</td>\n",
       "    </tr>\n",
       "    <tr>\n",
       "      <th>7148</th>\n",
       "      <td>5284</td>\n",
       "      <td>rolls-royce</td>\n",
       "      <td>ghost</td>\n",
       "      <td>2014</td>\n",
       "      <td>premium_unleaded_(required)</td>\n",
       "      <td>563.0</td>\n",
       "      <td>12.0</td>\n",
       "      <td>automatic</td>\n",
       "      <td>rear_wheel_drive</td>\n",
       "      <td>4.0</td>\n",
       "      <td>exotic,luxury,performance</td>\n",
       "      <td>large</td>\n",
       "      <td>sedan</td>\n",
       "      <td>21</td>\n",
       "      <td>13</td>\n",
       "      <td>86</td>\n",
       "      <td>303300</td>\n",
       "    </tr>\n",
       "    <tr>\n",
       "      <th>7149</th>\n",
       "      <td>2420</td>\n",
       "      <td>volkswagen</td>\n",
       "      <td>cc</td>\n",
       "      <td>2017</td>\n",
       "      <td>premium_unleaded_(recommended)</td>\n",
       "      <td>200.0</td>\n",
       "      <td>4.0</td>\n",
       "      <td>automated_manual</td>\n",
       "      <td>front_wheel_drive</td>\n",
       "      <td>4.0</td>\n",
       "      <td>performance</td>\n",
       "      <td>midsize</td>\n",
       "      <td>sedan</td>\n",
       "      <td>31</td>\n",
       "      <td>22</td>\n",
       "      <td>873</td>\n",
       "      <td>37820</td>\n",
       "    </tr>\n",
       "  </tbody>\n",
       "</table>\n",
       "<p>7150 rows × 17 columns</p>\n",
       "</div>"
      ],
      "text/plain": [
       "      index         make        model  year                engine_fuel_type  \\\n",
       "0      2735    chevrolet       cobalt  2008                regular_unleaded   \n",
       "1      6720       toyota       matrix  2012                regular_unleaded   \n",
       "2      5878       subaru      impreza  2016                regular_unleaded   \n",
       "3     11190   volkswagen      vanagon  1991                regular_unleaded   \n",
       "4      4554         ford        f-150  2017        flex-fuel_(unleaded/e85)   \n",
       "...     ...          ...          ...   ...                             ...   \n",
       "7145    434          bmw     4_series  2015     premium_unleaded_(required)   \n",
       "7146   1902   volkswagen       beetle  2015  premium_unleaded_(recommended)   \n",
       "7147   9334          gmc  sierra_1500  2015        flex-fuel_(unleaded/e85)   \n",
       "7148   5284  rolls-royce        ghost  2014     premium_unleaded_(required)   \n",
       "7149   2420   volkswagen           cc  2017  premium_unleaded_(recommended)   \n",
       "\n",
       "      engine_hp  engine_cylinders transmission_type      driven_wheels  \\\n",
       "0         148.0               4.0            manual  front_wheel_drive   \n",
       "1         132.0               4.0         automatic  front_wheel_drive   \n",
       "2         148.0               4.0         automatic    all_wheel_drive   \n",
       "3          90.0               4.0            manual   rear_wheel_drive   \n",
       "4         385.0               8.0         automatic   four_wheel_drive   \n",
       "...         ...               ...               ...                ...   \n",
       "7145      300.0               6.0         automatic   rear_wheel_drive   \n",
       "7146      210.0               4.0  automated_manual  front_wheel_drive   \n",
       "7147      285.0               6.0         automatic   four_wheel_drive   \n",
       "7148      563.0              12.0         automatic   rear_wheel_drive   \n",
       "7149      200.0               4.0  automated_manual  front_wheel_drive   \n",
       "\n",
       "      number_of_doors            market_category vehicle_size  \\\n",
       "0                 2.0                        NaN      compact   \n",
       "1                 4.0                  hatchback      compact   \n",
       "2                 4.0                  hatchback      compact   \n",
       "3                 3.0                        NaN        large   \n",
       "4                 4.0                  flex_fuel        large   \n",
       "...               ...                        ...          ...   \n",
       "7145              2.0         luxury,performance      midsize   \n",
       "7146              2.0      hatchback,performance      compact   \n",
       "7147              4.0                  flex_fuel        large   \n",
       "7148              4.0  exotic,luxury,performance        large   \n",
       "7149              4.0                performance      midsize   \n",
       "\n",
       "            vehicle_style  highway_mpg  city_mpg  popularity    msrp  \n",
       "0                   coupe           33        24        1385   14410  \n",
       "1           4dr_hatchback           32        25        2031   19685  \n",
       "2           4dr_hatchback           37        28         640   19795  \n",
       "3       passenger_minivan           18        16         873    2000  \n",
       "4         crew_cab_pickup           21        15        5657   56260  \n",
       "...                   ...          ...       ...         ...     ...  \n",
       "7145          convertible           31        20        3916   54900  \n",
       "7146        2dr_hatchback           30        24         873   29215  \n",
       "7147  extended_cab_pickup           22        17         549   34675  \n",
       "7148                sedan           21        13          86  303300  \n",
       "7149                sedan           31        22         873   37820  \n",
       "\n",
       "[7150 rows x 17 columns]"
      ]
     },
     "execution_count": 25,
     "metadata": {},
     "output_type": "execute_result"
    }
   ],
   "source": [
    "df_train.reset_index()"
   ]
  },
  {
   "cell_type": "markdown",
   "id": "a9563f52",
   "metadata": {},
   "source": [
    "Now a new column with the name of index is added in our dataset. Let's remove it"
   ]
  },
  {
   "cell_type": "code",
   "execution_count": 26,
   "id": "7b178b12",
   "metadata": {},
   "outputs": [
    {
     "data": {
      "text/plain": [
       "7150"
      ]
     },
     "execution_count": 26,
     "metadata": {},
     "output_type": "execute_result"
    }
   ],
   "source": [
    "df_train=df_train.reset_index(drop=True)\n",
    "len(df_train)"
   ]
  },
  {
   "cell_type": "markdown",
   "id": "777eb1f0",
   "metadata": {},
   "source": [
    "It's perfect now!!"
   ]
  },
  {
   "cell_type": "code",
   "execution_count": 27,
   "id": "e33fbbf6",
   "metadata": {},
   "outputs": [],
   "source": [
    "# Let's Reset the indexes of other two portions as well\n",
    "\n",
    "df_val=df_val.reset_index(drop=True)\n",
    "df_test=df_test.reset_index(drop=True)"
   ]
  },
  {
   "cell_type": "code",
   "execution_count": null,
   "id": "0ca35dee",
   "metadata": {},
   "outputs": [],
   "source": []
  },
  {
   "cell_type": "markdown",
   "id": "b8ec3b5c",
   "metadata": {},
   "source": [
    "It's time to make some tranformations with y as well"
   ]
  },
  {
   "cell_type": "code",
   "execution_count": 28,
   "id": "4cc99a6d",
   "metadata": {},
   "outputs": [
    {
     "data": {
      "text/plain": [
       "0        9.575747\n",
       "1        9.887663\n",
       "2        9.893235\n",
       "3        7.601402\n",
       "4       10.937757\n",
       "          ...    \n",
       "7145    10.913287\n",
       "7146    10.282472\n",
       "7147    10.453803\n",
       "7148    12.622481\n",
       "7149    10.540620\n",
       "Name: msrp, Length: 7150, dtype: float64"
      ]
     },
     "execution_count": 28,
     "metadata": {},
     "output_type": "execute_result"
    }
   ],
   "source": [
    "np.log1p(df_train.msrp)"
   ]
  },
  {
   "cell_type": "code",
   "execution_count": 29,
   "id": "a333106f",
   "metadata": {},
   "outputs": [
    {
     "data": {
      "text/plain": [
       "array([ 9.57574708,  9.887663  ,  9.89323518, ..., 10.45380308,\n",
       "       12.62248099, 10.54061978])"
      ]
     },
     "execution_count": 29,
     "metadata": {},
     "output_type": "execute_result"
    }
   ],
   "source": [
    "#convert this series into a numpy array by using pandas's  'values' \n",
    "\n",
    "y_train=np.log1p(df_train.msrp.values)\n",
    "y_train"
   ]
  },
  {
   "cell_type": "code",
   "execution_count": 30,
   "id": "8e6cc19f",
   "metadata": {},
   "outputs": [],
   "source": [
    "#Let's do it for other two as well\n",
    "y_val=np.log1p(df_val.msrp.values)\n",
    "y_test=np.log1p(df_test.msrp.values)"
   ]
  },
  {
   "cell_type": "markdown",
   "id": "515d1667",
   "metadata": {},
   "source": [
    "Here my stretgy is to delete price column from the dataset so we don't use accidently the values of price in prediction. It will be problematic if we use price feature while predicting the price for a car. To avoid this I will delete the price column for the dataframe as I have already loaded into a seperate variable 'y'. "
   ]
  },
  {
   "cell_type": "code",
   "execution_count": 31,
   "id": "0fcf6220",
   "metadata": {},
   "outputs": [],
   "source": [
    "# I am using del keyword to delete them \n",
    "\n",
    "del df_train['msrp']\n",
    "del df_val['msrp']\n",
    "del df_test['msrp']"
   ]
  },
  {
   "cell_type": "code",
   "execution_count": 32,
   "id": "2e0a2a8a",
   "metadata": {},
   "outputs": [
    {
     "name": "stdout",
     "output_type": "stream",
     "text": [
      "Lengths of features [7150, 2382, 2382]\n",
      "Lenghts of target [7150, 2382, 2382]\n"
     ]
    }
   ],
   "source": [
    "# The lenghts of feature data and target data\n",
    "\n",
    "features=[len(df_train), len(df_val), len(df_test)]\n",
    "target=[len(y_train), len(y_val), len(y_test)] \n",
    "print('Lengths of features', features)\n",
    "print('Lenghts of target', target)"
   ]
  },
  {
   "cell_type": "markdown",
   "id": "8185bc71",
   "metadata": {},
   "source": [
    "# Linear Regression"
   ]
  },
  {
   "cell_type": "markdown",
   "id": "5fec79c6",
   "metadata": {},
   "source": [
    "The Machine learning model we know can perform Regression, Classificaion and Ranking operations. The simplest equation to represent a ML model is <font color='blue'>$\\textbf{g(X)}\\approx \\textbf{y}$</font>\n",
    "\n",
    "Here $g$ is a model  \n",
    "$X$ is a feature matrix   \n",
    "$y$ is target \n",
    "\n",
    "Here I have a problem where mutliple features and want to predict a value from them, this a regression problem.\n",
    "\n",
    "In this case the g is Linear Regression Model  \n",
    "$X$ is traing_data  \n",
    "$y$ is price we want to predict  \n",
    "\n",
    "Linear Regression(df_train)$\\sim$msrp\n",
    "\n",
    "The idea to produce something near to $y$"
   ]
  },
  {
   "cell_type": "code",
   "execution_count": null,
   "id": "2a1dadd0",
   "metadata": {},
   "outputs": [],
   "source": []
  },
  {
   "cell_type": "markdown",
   "id": "43bcdb8f",
   "metadata": {},
   "source": [
    "Instead of full matrix I am taking an observation at a time and predicting the value yth value of it.\n",
    "\n",
    "In this case formula would be this:  \n",
    "\n",
    "$g(xi) = Wo + x_i1*w1 + x_i2*w2 + x_i3*w3$\n",
    "Wo is a value I will predict \n",
    "\n",
    "$W1,w2,w3$ are weights "
   ]
  },
  {
   "cell_type": "code",
   "execution_count": 33,
   "id": "aeab2e05",
   "metadata": {},
   "outputs": [
    {
     "data": {
      "text/plain": [
       "make                                 rolls-royce\n",
       "model                     phantom_drophead_coupe\n",
       "year                                        2015\n",
       "engine_fuel_type     premium_unleaded_(required)\n",
       "engine_hp                                  453.0\n",
       "engine_cylinders                            12.0\n",
       "transmission_type                      automatic\n",
       "driven_wheels                   rear_wheel_drive\n",
       "number_of_doors                              2.0\n",
       "market_category        exotic,luxury,performance\n",
       "vehicle_size                               large\n",
       "vehicle_style                        convertible\n",
       "highway_mpg                                   19\n",
       "city_mpg                                      11\n",
       "popularity                                    86\n",
       "Name: 10, dtype: object"
      ]
     },
     "execution_count": 33,
     "metadata": {},
     "output_type": "execute_result"
    }
   ],
   "source": [
    "# Let's take an example of it\n",
    "\n",
    "df_train.iloc[10]\n"
   ]
  },
  {
   "cell_type": "markdown",
   "id": "bca61ab1",
   "metadata": {},
   "source": [
    "I am using three columns for predicting the value.\n",
    "\n",
    "#### engine_hp, city_mpg and popularity\n",
    "####  453,              11,                    86 \n",
    "\n",
    "Let's calculate this,"
   ]
  },
  {
   "cell_type": "code",
   "execution_count": 34,
   "id": "cbd168e3",
   "metadata": {},
   "outputs": [],
   "source": [
    "xi=[453, 11, 86]   #feature of a car\n",
    "Wo = 0            # Value we want to predict \n",
    "w = [1, 1 ,1]     # Weights for calulations\n"
   ]
  },
  {
   "cell_type": "code",
   "execution_count": 35,
   "id": "fb8ae744",
   "metadata": {},
   "outputs": [],
   "source": [
    "# Linear regression implementation for one observation\n",
    "def Linear_Regression(xi):\n",
    "    n = len(xi)\n",
    "    pred = Wo\n",
    "    \n",
    "    for j in range(n):\n",
    "        pred=pred+xi[j]*w[j]\n",
    "    return pred"
   ]
  },
  {
   "cell_type": "code",
   "execution_count": 36,
   "id": "788469e1",
   "metadata": {},
   "outputs": [
    {
     "data": {
      "text/plain": [
       "550"
      ]
     },
     "execution_count": 36,
     "metadata": {},
     "output_type": "execute_result"
    }
   ],
   "source": [
    "Linear_Regression(xi)"
   ]
  },
  {
   "cell_type": "markdown",
   "id": "261cbcba",
   "metadata": {},
   "source": [
    "550 does it make any sense? \n",
    "\n",
    "Let's change the weights and see if there is any change?"
   ]
  },
  {
   "cell_type": "code",
   "execution_count": 37,
   "id": "b722812c",
   "metadata": {},
   "outputs": [],
   "source": [
    "wc = [0.01, 0.04 ,0.002]\n",
    "#let's add some biasness as well\n",
    "Wo=7.17\n",
    "def Linear_Regression(xi):\n",
    "    n = len(xi)\n",
    "    pred = Wo\n",
    "    \n",
    "    for j in range(n):\n",
    "        pred=pred+xi[j]*wc[j]\n",
    "    return pred"
   ]
  },
  {
   "cell_type": "code",
   "execution_count": 38,
   "id": "27a5ea83",
   "metadata": {},
   "outputs": [
    {
     "data": {
      "text/plain": [
       "12.312"
      ]
     },
     "execution_count": 38,
     "metadata": {},
     "output_type": "execute_result"
    }
   ],
   "source": [
    "car_p=Linear_Regression(xi)\n",
    "car_p"
   ]
  },
  {
   "cell_type": "markdown",
   "id": "274b681e",
   "metadata": {},
   "source": [
    "The result cannot be a car price, right? \n",
    "\n",
    "This is because I took $log(x)+1$. Now it is need to undone by performing exponant.\n",
    "\n",
    "Earlier it was $Y+1$ and now it will be $y-1$ "
   ]
  },
  {
   "cell_type": "code",
   "execution_count": 39,
   "id": "4c6bc2ee",
   "metadata": {},
   "outputs": [
    {
     "data": {
      "text/plain": [
       "222347.2221101062"
      ]
     },
     "execution_count": 39,
     "metadata": {},
     "output_type": "execute_result"
    }
   ],
   "source": [
    "np.exp(car_p)-1"
   ]
  },
  {
   "cell_type": "markdown",
   "id": "b7790f9c",
   "metadata": {},
   "source": [
    "There is a built in function like $log1p$ for $-1$. "
   ]
  },
  {
   "cell_type": "code",
   "execution_count": 40,
   "id": "312dc917",
   "metadata": {},
   "outputs": [
    {
     "data": {
      "text/plain": [
       "222347.22"
      ]
     },
     "execution_count": 40,
     "metadata": {},
     "output_type": "execute_result"
    }
   ],
   "source": [
    "exp_p=np.expm1(car_p).round(2)\n",
    "exp_p"
   ]
  },
  {
   "cell_type": "markdown",
   "id": "fedc73fb",
   "metadata": {},
   "source": [
    "So, now it make sense. I have established the approximate car price (222347.22) for the sole observation. "
   ]
  },
  {
   "cell_type": "code",
   "execution_count": 41,
   "id": "757e535b",
   "metadata": {},
   "outputs": [
    {
     "data": {
      "text/plain": [
       "12.312"
      ]
     },
     "execution_count": 41,
     "metadata": {},
     "output_type": "execute_result"
    }
   ],
   "source": [
    "# we can revert back to log as well \n",
    "np.log1p(exp_p).round(3)"
   ]
  },
  {
   "cell_type": "markdown",
   "id": "de81115a",
   "metadata": {},
   "source": [
    "So, basically exp and log canceling each other."
   ]
  },
  {
   "cell_type": "markdown",
   "id": "83aa9c1d",
   "metadata": {},
   "source": [
    "# Linear Regression Vector Multiplication "
   ]
  },
  {
   "cell_type": "code",
   "execution_count": 42,
   "id": "d530ad93",
   "metadata": {},
   "outputs": [],
   "source": [
    "def dot(xi, w):\n",
    "    n = len(xi)\n",
    "    result=0.0\n",
    "    for j in range(n):\n",
    "        result=result+xi[j]*w[j]\n",
    "    return result"
   ]
  },
  {
   "cell_type": "code",
   "execution_count": 43,
   "id": "6ffa59c5",
   "metadata": {},
   "outputs": [
    {
     "data": {
      "text/plain": [
       "5.142"
      ]
     },
     "execution_count": 43,
     "metadata": {},
     "output_type": "execute_result"
    }
   ],
   "source": [
    "dot(xi, wc)"
   ]
  },
  {
   "cell_type": "code",
   "execution_count": 44,
   "id": "ec6435b6",
   "metadata": {},
   "outputs": [
    {
     "data": {
      "text/plain": [
       "557.17"
      ]
     },
     "execution_count": 44,
     "metadata": {},
     "output_type": "execute_result"
    }
   ],
   "source": [
    "def Linear_Regression(xi):\n",
    "    return Wo+dot(xi, w)\n",
    "Linear_Regression(xi)"
   ]
  },
  {
   "cell_type": "markdown",
   "id": "efb65432",
   "metadata": {},
   "source": [
    "Suppose that I have an extra feature of in each car of $matrix X$.\n",
    "\n",
    "This feature is 1, or the value of the feature is 1.  \n",
    "\n",
    "Since adding value is one, it will create any impact of car prices for all cars. \n"
   ]
  },
  {
   "cell_type": "markdown",
   "id": "c9cc0005",
   "metadata": {},
   "source": [
    "Now we have $matrix$ of  $W$ & $Xi$\n",
    "\n",
    "$W = [w0, w1, w2 ..... wn]$\n",
    "\n",
    "$X_i= [1, x_i1, x_i2 ..... x_im]$ \n"
   ]
  },
  {
   "cell_type": "code",
   "execution_count": 45,
   "id": "46cfa976",
   "metadata": {},
   "outputs": [
    {
     "data": {
      "text/plain": [
       "[7.17, 0.01, 0.04, 0.002]"
      ]
     },
     "execution_count": 45,
     "metadata": {},
     "output_type": "execute_result"
    }
   ],
   "source": [
    "# So, Let's create a new array of weights and bias\n",
    "w_new= [Wo] + wc\n",
    "w_new"
   ]
  },
  {
   "cell_type": "code",
   "execution_count": 46,
   "id": "c4b5ff45",
   "metadata": {},
   "outputs": [],
   "source": [
    "def Linear_Regression(xi):\n",
    "    xi = [1] + xi\n",
    "    return dot(xi, w_new)"
   ]
  },
  {
   "cell_type": "code",
   "execution_count": 47,
   "id": "bae7ccf5",
   "metadata": {},
   "outputs": [
    {
     "data": {
      "text/plain": [
       "12.312"
      ]
     },
     "execution_count": 47,
     "metadata": {},
     "output_type": "execute_result"
    }
   ],
   "source": [
    "Linear_Regression(xi)"
   ]
  },
  {
   "cell_type": "code",
   "execution_count": 48,
   "id": "5ead6ce4",
   "metadata": {},
   "outputs": [
    {
     "data": {
      "text/plain": [
       "array([[   1,  148,   24, 1385],\n",
       "       [   1,  132,   25, 2031],\n",
       "       [   1,  453,   11,   86]])"
      ]
     },
     "execution_count": 48,
     "metadata": {},
     "output_type": "execute_result"
    }
   ],
   "source": [
    "# Here I am creating feature for more than one car, and adding 1 to each row \n",
    "\n",
    "x1=[1, 148, 24, 1385]\n",
    "x2= [1, 132, 25, 2031]\n",
    "x10=[1, 453, 11, 86]\n",
    "\n",
    "X = [x1, x2, x10]\n",
    "X=np.array(X)\n",
    "X"
   ]
  },
  {
   "cell_type": "code",
   "execution_count": 49,
   "id": "e3e38ae4",
   "metadata": {},
   "outputs": [],
   "source": [
    "def linear_regression(X):\n",
    "    return X.dot(w_new)"
   ]
  },
  {
   "cell_type": "code",
   "execution_count": 50,
   "id": "3c3c08b4",
   "metadata": {},
   "outputs": [],
   "source": [
    "val_a=linear_regression(X)"
   ]
  },
  {
   "cell_type": "code",
   "execution_count": 51,
   "id": "a42aa537",
   "metadata": {},
   "outputs": [],
   "source": [
    "exp_n=np.expm1(val_a).round(2)"
   ]
  },
  {
   "cell_type": "code",
   "execution_count": 52,
   "id": "76abe051",
   "metadata": {},
   "outputs": [
    {
     "name": "stdout",
     "output_type": "stream",
     "text": [
      "237992.82\n",
      "768348.51\n",
      "222347.22\n"
     ]
    }
   ],
   "source": [
    "for ex in exp_n:\n",
    "    print(ex)"
   ]
  },
  {
   "cell_type": "markdown",
   "id": "0388eb84",
   "metadata": {},
   "source": [
    "# Training a Linear Regression Model "
   ]
  },
  {
   "cell_type": "markdown",
   "id": "d94b7526",
   "metadata": {},
   "source": [
    "I need to find the closest value to y in machine learning model.\n",
    "### $ g(X)=X_w\\approx y$\n",
    "\n",
    "\n",
    "Getting $X_w=y$   is not possible but closing value is to find the close value we firest need to find $w$.\n",
    "\n",
    "To find the $w$ we can $X^{-1}X_w = X^{-1}y$ \n",
    "The $X^{-1}$ and $X$ will be canceled by each other and we will get $w=X^{-1}y$      Right,    \n",
    "\n",
    "But !!! This solution doestn't look viable because the matrix X will not always be square\n",
    "\n",
    "So now what??\n",
    "\n",
    "\n",
    "Let's try $X^{T}X=X^{T}y$   Here $X^{T}$ means the transpose of $X$, and the Matrix $X^{T}X$ called as $Gram Matrix$.   \n",
    "As the the gram matrix is square so we can take the inverse of it, and multiply both sides, right?   \n",
    "\n",
    "$(X^{T}X)^{-1}$.$X^{T}X_w$ =  $(X^{T}X)^{-1}$.$X^{T}y$\n",
    "\n",
    "The $(X^{T}X)^{-1}$ and $X^{T}X$ will cancel each other and we will get the $Identity matrix (I)$\n",
    "\n",
    "### $w=(X^{T}X)^{-1} X^{T}y$            $\\Longrightarrow$      $Iw = w$\n",
    "\n",
    "\n",
    "So, now we have:\n",
    "\n",
    "\n",
    "$w=(X^{T}X)^{-1} X^{T}y$   \n",
    "Let's implment this in code."
   ]
  },
  {
   "cell_type": "code",
   "execution_count": 53,
   "id": "e86be476",
   "metadata": {},
   "outputs": [],
   "source": [
    "#Lets have a matrix X first\n",
    "X =[\n",
    "    [148, 24, 138],\n",
    "    [132, 25, 201],\n",
    "    [413, 38, 314],\n",
    "    [152, 41, 207],\n",
    "    [188, 27, 519],\n",
    "    [371, 91, 657],\n",
    "]\n",
    "X=np.array(X)"
   ]
  },
  {
   "cell_type": "code",
   "execution_count": 54,
   "id": "f3a68656",
   "metadata": {},
   "outputs": [],
   "source": [
    "#same like X we need to convert the y as well\n",
    "y= [100, 202, 400, 600, 400, 250]"
   ]
  },
  {
   "cell_type": "code",
   "execution_count": 55,
   "id": "8c768568",
   "metadata": {},
   "outputs": [],
   "source": [
    "#So we need to start implementing the formula now\n",
    "XTX=X.T.dot(X)\n",
    "XTX_inv=np.linalg.inv(XTX)\n",
    "w=XTX_inv.dot(X.T).dot(y)"
   ]
  },
  {
   "cell_type": "code",
   "execution_count": 56,
   "id": "aed90954",
   "metadata": {},
   "outputs": [
    {
     "data": {
      "text/plain": [
       "array([[  1., 148.,  24., 138.],\n",
       "       [  1., 132.,  25., 201.],\n",
       "       [  1., 413.,  38., 314.],\n",
       "       [  1., 152.,  41., 207.],\n",
       "       [  1., 188.,  27., 519.],\n",
       "       [  1., 371.,  91., 657.]])"
      ]
     },
     "execution_count": 56,
     "metadata": {},
     "output_type": "execute_result"
    }
   ],
   "source": [
    "# we forget to add bias term (1) in X, Let's do it now \n",
    "ones= np.ones(6) #Bias term created for each row\n",
    "\n",
    "X= np.column_stack([ones, X])  #value added to each row\n",
    "\n",
    "X"
   ]
  },
  {
   "cell_type": "code",
   "execution_count": 57,
   "id": "5d9ab463",
   "metadata": {},
   "outputs": [
    {
     "data": {
      "text/plain": [
       "(0.7552635462757955, array([0.02600676, 0.28653642]))"
      ]
     },
     "execution_count": 57,
     "metadata": {},
     "output_type": "execute_result"
    }
   ],
   "source": [
    "Wo=w[0]\n",
    "w=w[1:]\n",
    "Wo, w"
   ]
  },
  {
   "cell_type": "markdown",
   "id": "4c9f1658",
   "metadata": {},
   "source": [
    "I can make a function of it as well "
   ]
  },
  {
   "cell_type": "code",
   "execution_count": 58,
   "id": "7316aa09",
   "metadata": {},
   "outputs": [],
   "source": [
    "def train_linear_regression(X, y):\n",
    "    \n",
    "    #Adding the bias term to a given matrix\n",
    "    ones=np.ones(X.shape[0])\n",
    "    X=np.column_stack([ones, X])\n",
    "    \n",
    "    #Taking the inverse of Gram Matrix\n",
    "    XTX=X.T.dot(X)\n",
    "    XTX_inv=np.linalg.inv(XTX)\n",
    "    \n",
    "    #Implementing the full formula to get w\n",
    "    w_full=XTX_inv.dot(X.T).dot(y)\n",
    "    \n",
    "    # This will return bias terms and remaining weights seperately\n",
    "    return w_full[0], w_full[1: ]"
   ]
  },
  {
   "cell_type": "code",
   "execution_count": 59,
   "id": "e743eaaf",
   "metadata": {},
   "outputs": [],
   "source": [
    "#train_linear_regression(X, y)"
   ]
  },
  {
   "cell_type": "markdown",
   "id": "82010cd3",
   "metadata": {},
   "source": [
    "# Training a Base Line Model "
   ]
  },
  {
   "cell_type": "code",
   "execution_count": null,
   "id": "fc9127ae",
   "metadata": {},
   "outputs": [],
   "source": []
  },
  {
   "cell_type": "code",
   "execution_count": 60,
   "id": "a6a7d766",
   "metadata": {},
   "outputs": [
    {
     "data": {
      "text/plain": [
       "make                  object\n",
       "model                 object\n",
       "year                   int64\n",
       "engine_fuel_type      object\n",
       "engine_hp            float64\n",
       "engine_cylinders     float64\n",
       "transmission_type     object\n",
       "driven_wheels         object\n",
       "number_of_doors      float64\n",
       "market_category       object\n",
       "vehicle_size          object\n",
       "vehicle_style         object\n",
       "highway_mpg            int64\n",
       "city_mpg               int64\n",
       "popularity             int64\n",
       "dtype: object"
      ]
     },
     "execution_count": 60,
     "metadata": {},
     "output_type": "execute_result"
    }
   ],
   "source": [
    "#our df_train has following columns\n",
    "df_train.dtypes"
   ]
  },
  {
   "cell_type": "code",
   "execution_count": 61,
   "id": "ed6fb924",
   "metadata": {},
   "outputs": [],
   "source": [
    "base=['engine_hp', 'engine_cylinders','highway_mpg','city_mpg','popularity']"
   ]
  },
  {
   "cell_type": "code",
   "execution_count": 62,
   "id": "e3257cb6",
   "metadata": {},
   "outputs": [],
   "source": [
    "X_train=df_train[base].values"
   ]
  },
  {
   "cell_type": "code",
   "execution_count": 63,
   "id": "63c4bd14",
   "metadata": {},
   "outputs": [],
   "source": [
    "X_train=df_train[base].fillna(0).values"
   ]
  },
  {
   "cell_type": "code",
   "execution_count": 64,
   "id": "ffc3e7d9",
   "metadata": {},
   "outputs": [],
   "source": [
    "Wo, w=train_linear_regression(X_train, y_train)"
   ]
  },
  {
   "cell_type": "code",
   "execution_count": 65,
   "id": "4f872ac2",
   "metadata": {},
   "outputs": [
    {
     "data": {
      "text/plain": [
       "array([ 9.54792783,  9.38733977,  9.67197758, ..., 10.30423015,\n",
       "       11.9778914 ,  9.99863111])"
      ]
     },
     "execution_count": 65,
     "metadata": {},
     "output_type": "execute_result"
    }
   ],
   "source": [
    "y_pred=Wo+X_train.dot(w)\n",
    "y_pred"
   ]
  },
  {
   "cell_type": "code",
   "execution_count": 66,
   "id": "febd387d",
   "metadata": {},
   "outputs": [
    {
     "data": {
      "text/plain": [
       "<AxesSubplot:ylabel='Count'>"
      ]
     },
     "execution_count": 66,
     "metadata": {},
     "output_type": "execute_result"
    },
    {
     "data": {
      "image/png": "[encoded data removed]",
      "text/plain": [
       "<Figure size 432x288 with 1 Axes>"
      ]
     },
     "metadata": {
      "needs_background": "light"
     },
     "output_type": "display_data"
    }
   ],
   "source": [
    "sns.histplot(y_pred)\n",
    "sns.histplot(y_train)"
   ]
  },
  {
   "cell_type": "code",
   "execution_count": 67,
   "id": "f8fd0208",
   "metadata": {},
   "outputs": [
    {
     "data": {
      "text/plain": [
       "<AxesSubplot:ylabel='Count'>"
      ]
     },
     "execution_count": 67,
     "metadata": {},
     "output_type": "execute_result"
    },
    {
     "data": {
      "image/png": "[encoded data removed]",
      "text/plain": [
       "<Figure size 432x288 with 1 Axes>"
      ]
     },
     "metadata": {
      "needs_background": "light"
     },
     "output_type": "display_data"
    }
   ],
   "source": [
    "sns.histplot(y_pred, color='red', alpha=0.5, bins=50) #alpha is used to control the opacity or to make transparent\n",
    "sns.histplot(y_train, color='blue', alpha=0.5, bins=50)"
   ]
  },
  {
   "cell_type": "markdown",
   "id": "63f478c5",
   "metadata": {},
   "source": [
    "# RMSE (Root Mean Squared Error)"
   ]
  },
  {
   "cell_type": "markdown",
   "id": "368ebee0",
   "metadata": {},
   "source": [
    "RMSE is used to calculate the Error. The formula is following "
   ]
  },
  {
   "cell_type": "markdown",
   "id": "3aa43f56",
   "metadata": {},
   "source": [
    " $ RMSE = \\sqrt{\\frac{1}{m} \\sum\\limits _{i=1}^{m} (g(x_i)-y_i)^2} $"
   ]
  },
  {
   "cell_type": "markdown",
   "id": "f991c7af",
   "metadata": {},
   "source": [
    "$ g(x_i)-y_i$ is the actuall part of squared difference\n",
    "\n",
    "Which is to find the differnce between pridicted value and actual value.\n",
    "\n",
    "Then we take the suquare of this difference $(g(x-i)-y_i)^2$\n",
    "\n",
    "$\\frac{1}{m}$ is taking average of the squared error\n",
    "\n",
    "Finally taking saqure root of all will give us the final value $ \\sqrt{\\frac{1}{m} \\sum\\limits _{i=1}^{m}  difference} $"
   ]
  },
  {
   "cell_type": "code",
   "execution_count": 68,
   "id": "15dda845",
   "metadata": {},
   "outputs": [],
   "source": [
    "#lets impliment this\n",
    "def RMSE(y, y_pred):\n",
    "    error = y - y_pred \n",
    "    se = error **2\n",
    "    mse = se.mean()\n",
    "    return np.sqrt(mse)"
   ]
  },
  {
   "cell_type": "code",
   "execution_count": 69,
   "id": "9511f109",
   "metadata": {},
   "outputs": [
    {
     "data": {
      "text/plain": [
       "0.7554192603920132"
      ]
     },
     "execution_count": 69,
     "metadata": {},
     "output_type": "execute_result"
    }
   ],
   "source": [
    "RMSE(y_train, y_pred)"
   ]
  },
  {
   "cell_type": "markdown",
   "id": "f135664b",
   "metadata": {},
   "source": [
    "we can short this by using  se= (y-y_pred)**2"
   ]
  },
  {
   "cell_type": "markdown",
   "id": "5bc03e3a",
   "metadata": {},
   "source": [
    "# Validating The Model"
   ]
  },
  {
   "cell_type": "markdown",
   "id": "3b926a24",
   "metadata": {},
   "source": [
    "In the preivous boxes I have trained a $Linear Regression Model$ and applied the training dat to calculate the RMSE. Now I will apply the validation data to test the model"
   ]
  },
  {
   "cell_type": "code",
   "execution_count": 70,
   "id": "3e11014a",
   "metadata": {},
   "outputs": [],
   "source": [
    "def prepare_x(df):    # Creating a function for preparing the data\n",
    "    df_num=df[base]\n",
    "    df_num=df_num.fillna(0)\n",
    "    X=df_num.values\n",
    "    return X"
   ]
  },
  {
   "cell_type": "code",
   "execution_count": 71,
   "id": "910bbe17",
   "metadata": {},
   "outputs": [
    {
     "data": {
      "text/plain": [
       "0.7616530991301591"
      ]
     },
     "execution_count": 71,
     "metadata": {},
     "output_type": "execute_result"
    }
   ],
   "source": [
    "#Training Phase  \n",
    "X_train = prepare_x(df_train)\n",
    "Wo, w = train_linear_regression(X_train, y_train)   \n",
    "\n",
    "#Validation Phase\n",
    "x_val=prepare_x(df_val)\n",
    "y_pred=Wo+x_val.dot(w)\n",
    "RMSE(y_val, y_pred)"
   ]
  },
  {
   "cell_type": "markdown",
   "id": "faed80dd",
   "metadata": {},
   "source": [
    "# Simple Feature Engineering"
   ]
  },
  {
   "cell_type": "markdown",
   "id": "0663b821",
   "metadata": {},
   "source": [
    "Here my plan is to imporve the model performance. The value of RMSE is 0.7616 at present. The imporvement will decrease the number (if any). "
   ]
  },
  {
   "cell_type": "code",
   "execution_count": 72,
   "id": "c5df9866",
   "metadata": {},
   "outputs": [
    {
     "data": {
      "text/html": [
       "<div>\n",
       "<style scoped>\n",
       "    .dataframe tbody tr th:only-of-type {\n",
       "        vertical-align: middle;\n",
       "    }\n",
       "\n",
       "    .dataframe tbody tr th {\n",
       "        vertical-align: top;\n",
       "    }\n",
       "\n",
       "    .dataframe thead th {\n",
       "        text-align: right;\n",
       "    }\n",
       "</style>\n",
       "<table border=\"1\" class=\"dataframe\">\n",
       "  <thead>\n",
       "    <tr style=\"text-align: right;\">\n",
       "      <th></th>\n",
       "      <th>make</th>\n",
       "      <th>model</th>\n",
       "      <th>year</th>\n",
       "      <th>engine_fuel_type</th>\n",
       "      <th>engine_hp</th>\n",
       "      <th>engine_cylinders</th>\n",
       "      <th>transmission_type</th>\n",
       "      <th>driven_wheels</th>\n",
       "      <th>number_of_doors</th>\n",
       "      <th>market_category</th>\n",
       "      <th>vehicle_size</th>\n",
       "      <th>vehicle_style</th>\n",
       "      <th>highway_mpg</th>\n",
       "      <th>city_mpg</th>\n",
       "      <th>popularity</th>\n",
       "      <th>msrp</th>\n",
       "    </tr>\n",
       "  </thead>\n",
       "  <tbody>\n",
       "    <tr>\n",
       "      <th>0</th>\n",
       "      <td>bmw</td>\n",
       "      <td>1_series_m</td>\n",
       "      <td>2011</td>\n",
       "      <td>premium_unleaded_(required)</td>\n",
       "      <td>335.0</td>\n",
       "      <td>6.0</td>\n",
       "      <td>manual</td>\n",
       "      <td>rear_wheel_drive</td>\n",
       "      <td>2.0</td>\n",
       "      <td>factory_tuner,luxury,high-performance</td>\n",
       "      <td>compact</td>\n",
       "      <td>coupe</td>\n",
       "      <td>26</td>\n",
       "      <td>19</td>\n",
       "      <td>3916</td>\n",
       "      <td>46135</td>\n",
       "    </tr>\n",
       "    <tr>\n",
       "      <th>1</th>\n",
       "      <td>bmw</td>\n",
       "      <td>1_series</td>\n",
       "      <td>2011</td>\n",
       "      <td>premium_unleaded_(required)</td>\n",
       "      <td>300.0</td>\n",
       "      <td>6.0</td>\n",
       "      <td>manual</td>\n",
       "      <td>rear_wheel_drive</td>\n",
       "      <td>2.0</td>\n",
       "      <td>luxury,performance</td>\n",
       "      <td>compact</td>\n",
       "      <td>convertible</td>\n",
       "      <td>28</td>\n",
       "      <td>19</td>\n",
       "      <td>3916</td>\n",
       "      <td>40650</td>\n",
       "    </tr>\n",
       "    <tr>\n",
       "      <th>2</th>\n",
       "      <td>bmw</td>\n",
       "      <td>1_series</td>\n",
       "      <td>2011</td>\n",
       "      <td>premium_unleaded_(required)</td>\n",
       "      <td>300.0</td>\n",
       "      <td>6.0</td>\n",
       "      <td>manual</td>\n",
       "      <td>rear_wheel_drive</td>\n",
       "      <td>2.0</td>\n",
       "      <td>luxury,high-performance</td>\n",
       "      <td>compact</td>\n",
       "      <td>coupe</td>\n",
       "      <td>28</td>\n",
       "      <td>20</td>\n",
       "      <td>3916</td>\n",
       "      <td>36350</td>\n",
       "    </tr>\n",
       "    <tr>\n",
       "      <th>3</th>\n",
       "      <td>bmw</td>\n",
       "      <td>1_series</td>\n",
       "      <td>2011</td>\n",
       "      <td>premium_unleaded_(required)</td>\n",
       "      <td>230.0</td>\n",
       "      <td>6.0</td>\n",
       "      <td>manual</td>\n",
       "      <td>rear_wheel_drive</td>\n",
       "      <td>2.0</td>\n",
       "      <td>luxury,performance</td>\n",
       "      <td>compact</td>\n",
       "      <td>coupe</td>\n",
       "      <td>28</td>\n",
       "      <td>18</td>\n",
       "      <td>3916</td>\n",
       "      <td>29450</td>\n",
       "    </tr>\n",
       "    <tr>\n",
       "      <th>4</th>\n",
       "      <td>bmw</td>\n",
       "      <td>1_series</td>\n",
       "      <td>2011</td>\n",
       "      <td>premium_unleaded_(required)</td>\n",
       "      <td>230.0</td>\n",
       "      <td>6.0</td>\n",
       "      <td>manual</td>\n",
       "      <td>rear_wheel_drive</td>\n",
       "      <td>2.0</td>\n",
       "      <td>luxury</td>\n",
       "      <td>compact</td>\n",
       "      <td>convertible</td>\n",
       "      <td>28</td>\n",
       "      <td>18</td>\n",
       "      <td>3916</td>\n",
       "      <td>34500</td>\n",
       "    </tr>\n",
       "  </tbody>\n",
       "</table>\n",
       "</div>"
      ],
      "text/plain": [
       "  make       model  year             engine_fuel_type  engine_hp  \\\n",
       "0  bmw  1_series_m  2011  premium_unleaded_(required)      335.0   \n",
       "1  bmw    1_series  2011  premium_unleaded_(required)      300.0   \n",
       "2  bmw    1_series  2011  premium_unleaded_(required)      300.0   \n",
       "3  bmw    1_series  2011  premium_unleaded_(required)      230.0   \n",
       "4  bmw    1_series  2011  premium_unleaded_(required)      230.0   \n",
       "\n",
       "   engine_cylinders transmission_type     driven_wheels  number_of_doors  \\\n",
       "0               6.0            manual  rear_wheel_drive              2.0   \n",
       "1               6.0            manual  rear_wheel_drive              2.0   \n",
       "2               6.0            manual  rear_wheel_drive              2.0   \n",
       "3               6.0            manual  rear_wheel_drive              2.0   \n",
       "4               6.0            manual  rear_wheel_drive              2.0   \n",
       "\n",
       "                         market_category vehicle_size vehicle_style  \\\n",
       "0  factory_tuner,luxury,high-performance      compact         coupe   \n",
       "1                     luxury,performance      compact   convertible   \n",
       "2                luxury,high-performance      compact         coupe   \n",
       "3                     luxury,performance      compact         coupe   \n",
       "4                                 luxury      compact   convertible   \n",
       "\n",
       "   highway_mpg  city_mpg  popularity   msrp  \n",
       "0           26        19        3916  46135  \n",
       "1           28        19        3916  40650  \n",
       "2           28        20        3916  36350  \n",
       "3           28        18        3916  29450  \n",
       "4           28        18        3916  34500  "
      ]
     },
     "execution_count": 72,
     "metadata": {},
     "output_type": "execute_result"
    }
   ],
   "source": [
    "# I am looking for the df first \n",
    "df.head(5)"
   ]
  },
  {
   "cell_type": "markdown",
   "id": "aefd2305",
   "metadata": {},
   "source": [
    "The most importnat column that I missed in training data is year, becuase if the car is older then it is understood the price will be less then the new one. "
   ]
  },
  {
   "cell_type": "code",
   "execution_count": 73,
   "id": "a4699127",
   "metadata": {},
   "outputs": [
    {
     "data": {
      "text/plain": [
       "2017"
      ]
     },
     "execution_count": 73,
     "metadata": {},
     "output_type": "execute_result"
    }
   ],
   "source": [
    "# I am checking when the data was collected\n",
    "df_train.year.max()"
   ]
  },
  {
   "cell_type": "code",
   "execution_count": 74,
   "id": "eb8b5f19",
   "metadata": {},
   "outputs": [
    {
     "data": {
      "text/plain": [
       "array([9, 5, 1, ..., 2, 3, 0], dtype=int64)"
      ]
     },
     "execution_count": 74,
     "metadata": {},
     "output_type": "execute_result"
    }
   ],
   "source": [
    "# 2017 was the year when data was collected \n",
    "2017 - df_train.year.values"
   ]
  },
  {
   "cell_type": "markdown",
   "id": "b3941ba3",
   "metadata": {},
   "source": [
    "Some cars are 9 years old and some are 0 years old. This feature can be handy in predicting the price more precisly. "
   ]
  },
  {
   "cell_type": "code",
   "execution_count": 75,
   "id": "916d45eb",
   "metadata": {},
   "outputs": [],
   "source": [
    "# I will the prepare_x function again\n",
    "def prepare_x(df): \n",
    "    df=df.copy()\n",
    "    df['age'] = 2017 - df.year\n",
    "    feature = base+['age']\n",
    "    df_num=df[feature]\n",
    "    df_num=df_num.fillna(0)\n",
    "    X=df_num.values\n",
    "    return X"
   ]
  },
  {
   "cell_type": "code",
   "execution_count": 76,
   "id": "91cfff30",
   "metadata": {},
   "outputs": [
    {
     "data": {
      "text/plain": [
       "0.5172055461058329"
      ]
     },
     "execution_count": 76,
     "metadata": {},
     "output_type": "execute_result"
    }
   ],
   "source": [
    "# The model needs to train gain \n",
    "X_train = prepare_x(df_train)\n",
    "Wo, w = train_linear_regression(X_train, y_train)   \n",
    "\n",
    "# Now Validating it again \n",
    "x_val=prepare_x(df_val)\n",
    "y_pred=Wo+x_val.dot(w)\n",
    "RMSE(y_val, y_pred)"
   ]
  },
  {
   "cell_type": "markdown",
   "id": "40e26617",
   "metadata": {},
   "source": [
    "Boom !! A little feature engineering yielded the performance increase upto 25 per cent. My model got imporved\n",
    "\n",
    "Instead of $0.7616$ the new error rate is $0.5172$ \n",
    "\n",
    "I am drawing the histplot again"
   ]
  },
  {
   "cell_type": "code",
   "execution_count": 77,
   "id": "6c5edaee",
   "metadata": {},
   "outputs": [
    {
     "data": {
      "text/plain": [
       "<AxesSubplot:ylabel='Count'>"
      ]
     },
     "execution_count": 77,
     "metadata": {},
     "output_type": "execute_result"
    },
    {
     "data": {
      "image/png": "[encoded data removed]",
      "text/plain": [
       "<Figure size 432x288 with 1 Axes>"
      ]
     },
     "metadata": {
      "needs_background": "light"
     },
     "output_type": "display_data"
    }
   ],
   "source": [
    "sns.histplot(y_pred, color='red', alpha=0.5, bins=50) \n",
    "sns.histplot(y_val, color='blue', alpha=0.5, bins=50)"
   ]
  },
  {
   "cell_type": "markdown",
   "id": "01f382ea",
   "metadata": {},
   "source": [
    "# Categorical Variables "
   ]
  },
  {
   "cell_type": "markdown",
   "id": "131f545c",
   "metadata": {},
   "source": [
    "There are some columns in the dataset which looks numerical but they are not instead they are categorical. See for example the number of door is a categrical, the value will be always from $2, 3$ or $4$. So this is categorical variable. Because there value is in numeric form so pandas thought it float value. I can use this as well in my training for prediciting the price right. Why this is important now? You now cars with two doors are more expensive than the four door having this feature in training time can increase the performacne while guessing the price. "
   ]
  },
  {
   "cell_type": "code",
   "execution_count": 78,
   "id": "c40c6045",
   "metadata": {},
   "outputs": [
    {
     "data": {
      "text/plain": [
       "make                  object\n",
       "model                 object\n",
       "year                   int64\n",
       "engine_fuel_type      object\n",
       "engine_hp            float64\n",
       "engine_cylinders     float64\n",
       "transmission_type     object\n",
       "driven_wheels         object\n",
       "number_of_doors      float64\n",
       "market_category       object\n",
       "vehicle_size          object\n",
       "vehicle_style         object\n",
       "highway_mpg            int64\n",
       "city_mpg               int64\n",
       "popularity             int64\n",
       "msrp                   int64\n",
       "dtype: object"
      ]
     },
     "execution_count": 78,
     "metadata": {},
     "output_type": "execute_result"
    }
   ],
   "source": [
    "df.dtypes"
   ]
  },
  {
   "cell_type": "code",
   "execution_count": 79,
   "id": "212e19b5",
   "metadata": {},
   "outputs": [
    {
     "data": {
      "text/plain": [
       "0        True\n",
       "1       False\n",
       "2       False\n",
       "3       False\n",
       "4       False\n",
       "        ...  \n",
       "7145     True\n",
       "7146     True\n",
       "7147    False\n",
       "7148    False\n",
       "7149    False\n",
       "Name: number_of_doors, Length: 7150, dtype: bool"
      ]
     },
     "execution_count": 79,
     "metadata": {},
     "output_type": "execute_result"
    }
   ],
   "source": [
    "#To use in categorical way I will make a copy of df and three more columuns for numbers of doors. \n",
    "#The column will represnt 1 on coresponding value and zero for remaning columns. Let's check it\n",
    "\n",
    "df_train.number_of_doors == 2\n"
   ]
  },
  {
   "cell_type": "code",
   "execution_count": 80,
   "id": "5b98493d",
   "metadata": {},
   "outputs": [
    {
     "data": {
      "text/plain": [
       "0       1\n",
       "1       0\n",
       "2       0\n",
       "3       0\n",
       "4       0\n",
       "       ..\n",
       "7145    1\n",
       "7146    1\n",
       "7147    0\n",
       "7148    0\n",
       "7149    0\n",
       "Name: number_of_doors, Length: 7150, dtype: int32"
      ]
     },
     "execution_count": 80,
     "metadata": {},
     "output_type": "execute_result"
    }
   ],
   "source": [
    "# Now it is in True or False form, I'm making it in ones and zeros\n",
    "(df_train.number_of_doors == 2 ).astype('int')"
   ]
  },
  {
   "cell_type": "code",
   "execution_count": 81,
   "id": "8bf8d00b",
   "metadata": {},
   "outputs": [],
   "source": [
    "# puting it in a function I used previously \n",
    "def prepare_x(df): \n",
    "    df=df.copy()\n",
    "    # I didn't want to change my base columns either so copying them\n",
    "    features=base.copy()\n",
    "    \n",
    "    df['age'] = 2017 - df.year\n",
    "    features.append('age')\n",
    "    \n",
    "    for v in [2,3,4]:\n",
    "        df['num_doors_%s' % v] =(df.number_of_doors== v).astype('int')\n",
    "        features.append('num_doors_%s' % v)\n",
    "    #feature = base+['age']\n",
    "    df_num=df[features]\n",
    "    df_num=df_num.fillna(0)\n",
    "    X=df_num.values\n",
    "    return X"
   ]
  },
  {
   "cell_type": "code",
   "execution_count": 82,
   "id": "ec940d9a",
   "metadata": {},
   "outputs": [
    {
     "data": {
      "text/plain": [
       "array([[148.,   4.,  33., ...,   1.,   0.,   0.],\n",
       "       [132.,   4.,  32., ...,   0.,   0.,   1.],\n",
       "       [148.,   4.,  37., ...,   0.,   0.,   1.],\n",
       "       ...,\n",
       "       [285.,   6.,  22., ...,   0.,   0.,   1.],\n",
       "       [563.,  12.,  21., ...,   0.,   0.,   1.],\n",
       "       [200.,   4.,  31., ...,   0.,   0.,   1.]])"
      ]
     },
     "execution_count": 82,
     "metadata": {},
     "output_type": "execute_result"
    }
   ],
   "source": [
    "prepare_x(df_train)"
   ]
  },
  {
   "cell_type": "markdown",
   "id": "c9d5860c",
   "metadata": {},
   "source": [
    "So I have three new columuns with 1 and 0s endcoding"
   ]
  },
  {
   "cell_type": "code",
   "execution_count": 83,
   "id": "1d7fb3c6",
   "metadata": {},
   "outputs": [
    {
     "data": {
      "text/plain": [
       "0.5157995641502988"
      ]
     },
     "execution_count": 83,
     "metadata": {},
     "output_type": "execute_result"
    }
   ],
   "source": [
    "X_train = prepare_x(df_train)\n",
    "Wo, w = train_linear_regression(X_train, y_train)   \n",
    "\n",
    "# Now Validating it again \n",
    "x_val=prepare_x(df_val)\n",
    "y_pred=Wo+x_val.dot(w)\n",
    "RMSE(y_val, y_pred)"
   ]
  },
  {
   "cell_type": "markdown",
   "id": "f0191029",
   "metadata": {},
   "source": [
    "The feature of number of door is not pretty significant in my case, although model showed some improvement but it very very slight. I am trying other features as well."
   ]
  },
  {
   "cell_type": "code",
   "execution_count": 84,
   "id": "5b5739fd",
   "metadata": {},
   "outputs": [],
   "source": [
    "makes = list(df.make.value_counts().head().index)"
   ]
  },
  {
   "cell_type": "code",
   "execution_count": 85,
   "id": "9a17775a",
   "metadata": {},
   "outputs": [],
   "source": [
    "# Again adding this into the function for preparing the data\n",
    "\n",
    "def prepare_x(df): \n",
    "    df=df.copy()\n",
    "    # I didn't want to change my base columns either so copying them\n",
    "    features=base.copy()\n",
    "    \n",
    "    df['age'] = 2017 - df.year\n",
    "    features.append('age')\n",
    "    \n",
    "    for v in [2,3,4]:\n",
    "        df['num_doors_%s' % v] =(df.number_of_doors== v).astype('int')\n",
    "        features.append('num_doors_%s' % v)\n",
    "    for v in makes:\n",
    "        df['make_%s'%v] = (df.make==v).astype('int')\n",
    "        features.append('make_%s'%v)\n",
    "        \n",
    "    #feature = base+['age']\n",
    "    df_num=df[features]\n",
    "    df_num=df_num.fillna(0)\n",
    "    X=df_num.values\n",
    "    return X"
   ]
  },
  {
   "cell_type": "code",
   "execution_count": 86,
   "id": "e05db72a",
   "metadata": {},
   "outputs": [
    {
     "data": {
      "text/plain": [
       "0.5076038849555213"
      ]
     },
     "execution_count": 86,
     "metadata": {},
     "output_type": "execute_result"
    }
   ],
   "source": [
    "X_train = prepare_x(df_train)\n",
    "Wo, w = train_linear_regression(X_train, y_train)   \n",
    "\n",
    "# Now Validating it again \n",
    "x_val=prepare_x(df_val)\n",
    "y_pred=Wo+x_val.dot(w)\n",
    "RMSE(y_val, y_pred)"
   ]
  },
  {
   "cell_type": "markdown",
   "id": "6dfeeb8c",
   "metadata": {},
   "source": [
    "Model improved slightly but it is not big change as it was previous 25 percent. \n",
    "\n",
    "So, I'm adding categorical more features in training. "
   ]
  },
  {
   "cell_type": "code",
   "execution_count": 87,
   "id": "457c2918",
   "metadata": {},
   "outputs": [],
   "source": [
    "categrical_variables=['make', 'engine_fuel_type', 'transmission_type','driven_wheels', 'market_category', 'vehicle_size', 'vehicle_style']"
   ]
  },
  {
   "cell_type": "code",
   "execution_count": 88,
   "id": "46f8126e",
   "metadata": {},
   "outputs": [],
   "source": [
    "categories = {}  # I will add values in this dictories of above mentioned columns\n",
    "\n",
    "for c in categrical_variables:\n",
    "    categories[c] = list(df[c].value_counts().head().index)"
   ]
  },
  {
   "cell_type": "code",
   "execution_count": 89,
   "id": "0865727a",
   "metadata": {},
   "outputs": [
    {
     "data": {
      "text/plain": [
       "{'make': ['chevrolet', 'ford', 'volkswagen', 'toyota', 'dodge'],\n",
       " 'engine_fuel_type': ['regular_unleaded',\n",
       "  'premium_unleaded_(required)',\n",
       "  'premium_unleaded_(recommended)',\n",
       "  'flex-fuel_(unleaded/e85)',\n",
       "  'diesel'],\n",
       " 'transmission_type': ['automatic',\n",
       "  'manual',\n",
       "  'automated_manual',\n",
       "  'direct_drive',\n",
       "  'unknown'],\n",
       " 'driven_wheels': ['front_wheel_drive',\n",
       "  'rear_wheel_drive',\n",
       "  'all_wheel_drive',\n",
       "  'four_wheel_drive'],\n",
       " 'market_category': ['crossover',\n",
       "  'flex_fuel',\n",
       "  'luxury',\n",
       "  'luxury,performance',\n",
       "  'hatchback'],\n",
       " 'vehicle_size': ['compact', 'midsize', 'large'],\n",
       " 'vehicle_style': ['sedan',\n",
       "  '4dr_suv',\n",
       "  'coupe',\n",
       "  'convertible',\n",
       "  '4dr_hatchback']}"
      ]
     },
     "execution_count": 89,
     "metadata": {},
     "output_type": "execute_result"
    }
   ],
   "source": [
    "categories"
   ]
  },
  {
   "cell_type": "code",
   "execution_count": 90,
   "id": "5c1a94a2",
   "metadata": {},
   "outputs": [],
   "source": [
    "def prepare_x(df): \n",
    "    df=df.copy()\n",
    "    # I didn't want to change my base columns either so copying them\n",
    "    features=base.copy()\n",
    "    \n",
    "    df['age'] = 2017 - df.year\n",
    "    features.append('age')\n",
    "    \n",
    "    for v in [2,3,4]:\n",
    "        df['num_doors_%s' % v] =(df.number_of_doors== v).astype('int')\n",
    "        features.append('num_doors_%s' % v)\n",
    "    \n",
    "    for c ,values in categories.items():\n",
    "        for v in values:\n",
    "            df['%s_%s'% (c,v)] = (df[c]==v).astype('int')\n",
    "            features.append('%s_%s'% (c,v))\n",
    "        \n",
    "        \n",
    "    #feature = base+['age']\n",
    "    df_num=df[features]\n",
    "    df_num=df_num.fillna(0)\n",
    "    X=df_num.values\n",
    "    return X"
   ]
  },
  {
   "cell_type": "code",
   "execution_count": 91,
   "id": "d96bf6d3",
   "metadata": {},
   "outputs": [
    {
     "data": {
      "text/plain": [
       "428.2812805730471"
      ]
     },
     "execution_count": 91,
     "metadata": {},
     "output_type": "execute_result"
    }
   ],
   "source": [
    "X_train = prepare_x(df_train)\n",
    "Wo, w = train_linear_regression(X_train, y_train)   \n",
    "\n",
    "# Now Validating it again \n",
    "x_val=prepare_x(df_val)\n",
    "y_pred=Wo+x_val.dot(w)\n",
    "RMSE(y_val, y_pred)"
   ]
  },
  {
   "cell_type": "markdown",
   "id": "b123e7e1",
   "metadata": {},
   "source": [
    "Whoa!! it is huge decrease in performance in my model. Something went wrong, to fix this Regularization is required. "
   ]
  },
  {
   "cell_type": "markdown",
   "id": "d8ce6a22",
   "metadata": {},
   "source": [
    "# Regularization "
   ]
  },
  {
   "cell_type": "markdown",
   "id": "67f7c6fa",
   "metadata": {},
   "source": [
    "Rember I used the formula for weights  $w= (X^{T}X)^{-1}X^{T}y$\n",
    "\n",
    "The problem in my case lies at this $(X^{T}X)^{-1}$ section. \n",
    "Sometimes the value of a column is identical to other column in the dataset which prohibts taking inverse of it. \n",
    "\n",
    "Like below.\n",
    "\n",
    "Regularization is process to control the weights so they don't grow too much."
   ]
  },
  {
   "cell_type": "code",
   "execution_count": 92,
   "id": "d7be8249",
   "metadata": {},
   "outputs": [],
   "source": [
    "XX=[\n",
    "    [4,4,4],\n",
    "    [3,5,5],\n",
    "    [5,1,1],\n",
    "    [5,4,4],\n",
    "    [7,5,5],\n",
    "    [7,5,5],\n",
    "]"
   ]
  },
  {
   "cell_type": "code",
   "execution_count": 93,
   "id": "23a55959",
   "metadata": {},
   "outputs": [
    {
     "data": {
      "text/plain": [
       "array([[4, 4, 4],\n",
       "       [3, 5, 5],\n",
       "       [5, 1, 1],\n",
       "       [5, 4, 4],\n",
       "       [7, 5, 5],\n",
       "       [7, 5, 5]])"
      ]
     },
     "execution_count": 93,
     "metadata": {},
     "output_type": "execute_result"
    }
   ],
   "source": [
    "xx=np.array(XX) #converting it to numpy array\n",
    "xx"
   ]
  },
  {
   "cell_type": "code",
   "execution_count": 94,
   "id": "34c7fd0a",
   "metadata": {},
   "outputs": [
    {
     "data": {
      "text/plain": [
       "array([[173, 126, 126],\n",
       "       [126, 108, 108],\n",
       "       [126, 108, 108]])"
      ]
     },
     "execution_count": 94,
     "metadata": {},
     "output_type": "execute_result"
    }
   ],
   "source": [
    "# now taking the dot product first and then the inverse\n",
    "xxtxx=xx.T.dot(xx)\n",
    "xxtxx"
   ]
  },
  {
   "cell_type": "markdown",
   "id": "06b27d4f",
   "metadata": {},
   "source": [
    "The output of last two columns are the same after taking the transpose, let's take the inverse of it. "
   ]
  },
  {
   "cell_type": "code",
   "execution_count": 96,
   "id": "944d92c3",
   "metadata": {},
   "outputs": [
    {
     "ename": "LinAlgError",
     "evalue": "Singular matrix",
     "output_type": "error",
     "traceback": [
      "\u001b[1;31m---------------------------------------------------------------------------\u001b[0m",
      "\u001b[1;31mLinAlgError\u001b[0m                               Traceback (most recent call last)",
      "\u001b[1;32m<ipython-input-96-8d3c00b1f5e8>\u001b[0m in \u001b[0;36m<module>\u001b[1;34m\u001b[0m\n\u001b[1;32m----> 1\u001b[1;33m \u001b[0mxxtxx_inv\u001b[0m\u001b[1;33m=\u001b[0m\u001b[0mnp\u001b[0m\u001b[1;33m.\u001b[0m\u001b[0mlinalg\u001b[0m\u001b[1;33m.\u001b[0m\u001b[0minv\u001b[0m\u001b[1;33m(\u001b[0m\u001b[0mxxtxx\u001b[0m\u001b[1;33m)\u001b[0m\u001b[1;33m\u001b[0m\u001b[1;33m\u001b[0m\u001b[0m\n\u001b[0m",
      "\u001b[1;32m<__array_function__ internals>\u001b[0m in \u001b[0;36minv\u001b[1;34m(*args, **kwargs)\u001b[0m\n",
      "\u001b[1;32m~\\anaconda3\\lib\\site-packages\\numpy\\linalg\\linalg.py\u001b[0m in \u001b[0;36minv\u001b[1;34m(a)\u001b[0m\n\u001b[0;32m    543\u001b[0m     \u001b[0msignature\u001b[0m \u001b[1;33m=\u001b[0m \u001b[1;34m'D->D'\u001b[0m \u001b[1;32mif\u001b[0m \u001b[0misComplexType\u001b[0m\u001b[1;33m(\u001b[0m\u001b[0mt\u001b[0m\u001b[1;33m)\u001b[0m \u001b[1;32melse\u001b[0m \u001b[1;34m'd->d'\u001b[0m\u001b[1;33m\u001b[0m\u001b[1;33m\u001b[0m\u001b[0m\n\u001b[0;32m    544\u001b[0m     \u001b[0mextobj\u001b[0m \u001b[1;33m=\u001b[0m \u001b[0mget_linalg_error_extobj\u001b[0m\u001b[1;33m(\u001b[0m\u001b[0m_raise_linalgerror_singular\u001b[0m\u001b[1;33m)\u001b[0m\u001b[1;33m\u001b[0m\u001b[1;33m\u001b[0m\u001b[0m\n\u001b[1;32m--> 545\u001b[1;33m     \u001b[0mainv\u001b[0m \u001b[1;33m=\u001b[0m \u001b[0m_umath_linalg\u001b[0m\u001b[1;33m.\u001b[0m\u001b[0minv\u001b[0m\u001b[1;33m(\u001b[0m\u001b[0ma\u001b[0m\u001b[1;33m,\u001b[0m \u001b[0msignature\u001b[0m\u001b[1;33m=\u001b[0m\u001b[0msignature\u001b[0m\u001b[1;33m,\u001b[0m \u001b[0mextobj\u001b[0m\u001b[1;33m=\u001b[0m\u001b[0mextobj\u001b[0m\u001b[1;33m)\u001b[0m\u001b[1;33m\u001b[0m\u001b[1;33m\u001b[0m\u001b[0m\n\u001b[0m\u001b[0;32m    546\u001b[0m     \u001b[1;32mreturn\u001b[0m \u001b[0mwrap\u001b[0m\u001b[1;33m(\u001b[0m\u001b[0mainv\u001b[0m\u001b[1;33m.\u001b[0m\u001b[0mastype\u001b[0m\u001b[1;33m(\u001b[0m\u001b[0mresult_t\u001b[0m\u001b[1;33m,\u001b[0m \u001b[0mcopy\u001b[0m\u001b[1;33m=\u001b[0m\u001b[1;32mFalse\u001b[0m\u001b[1;33m)\u001b[0m\u001b[1;33m)\u001b[0m\u001b[1;33m\u001b[0m\u001b[1;33m\u001b[0m\u001b[0m\n\u001b[0;32m    547\u001b[0m \u001b[1;33m\u001b[0m\u001b[0m\n",
      "\u001b[1;32m~\\anaconda3\\lib\\site-packages\\numpy\\linalg\\linalg.py\u001b[0m in \u001b[0;36m_raise_linalgerror_singular\u001b[1;34m(err, flag)\u001b[0m\n\u001b[0;32m     86\u001b[0m \u001b[1;33m\u001b[0m\u001b[0m\n\u001b[0;32m     87\u001b[0m \u001b[1;32mdef\u001b[0m \u001b[0m_raise_linalgerror_singular\u001b[0m\u001b[1;33m(\u001b[0m\u001b[0merr\u001b[0m\u001b[1;33m,\u001b[0m \u001b[0mflag\u001b[0m\u001b[1;33m)\u001b[0m\u001b[1;33m:\u001b[0m\u001b[1;33m\u001b[0m\u001b[1;33m\u001b[0m\u001b[0m\n\u001b[1;32m---> 88\u001b[1;33m     \u001b[1;32mraise\u001b[0m \u001b[0mLinAlgError\u001b[0m\u001b[1;33m(\u001b[0m\u001b[1;34m\"Singular matrix\"\u001b[0m\u001b[1;33m)\u001b[0m\u001b[1;33m\u001b[0m\u001b[1;33m\u001b[0m\u001b[0m\n\u001b[0m\u001b[0;32m     89\u001b[0m \u001b[1;33m\u001b[0m\u001b[0m\n\u001b[0;32m     90\u001b[0m \u001b[1;32mdef\u001b[0m \u001b[0m_raise_linalgerror_nonposdef\u001b[0m\u001b[1;33m(\u001b[0m\u001b[0merr\u001b[0m\u001b[1;33m,\u001b[0m \u001b[0mflag\u001b[0m\u001b[1;33m)\u001b[0m\u001b[1;33m:\u001b[0m\u001b[1;33m\u001b[0m\u001b[1;33m\u001b[0m\u001b[0m\n",
      "\u001b[1;31mLinAlgError\u001b[0m: Singular matrix"
     ]
    }
   ],
   "source": [
    "xxtxx_inv=np.linalg.inv(xxtxx)"
   ]
  },
  {
   "cell_type": "markdown",
   "id": "610cd267",
   "metadata": {},
   "source": [
    "The error is we can't take the inverse of the above matrix because the inverse doesn't exist when the values are identical for the multiple columns.\n",
    "\n",
    "But in my case this is not the case becuase I didn't received similar while processing this $XTX_inv=np.linalg.inv(XTX)$  in  <font color='blue'>train_linear_regression</font> function. \n",
    "\n",
    "##### So, whats wrong??\n",
    "\n",
    "Sometimes recording the data some noise is also added with actucal value which makes weights bigger. Adding a small value to the diagonals of the w matrix could increase the performance. Let's try"
   ]
  },
  {
   "cell_type": "code",
   "execution_count": 97,
   "id": "04be82d5",
   "metadata": {},
   "outputs": [],
   "source": [
    "# I will make changes in train_linear_regression function by adding r parameter\n",
    "def train_linear_regression_reg(X, y, r=0.01):\n",
    "    \n",
    "    #Adding the bias term to a given matrix\n",
    "    ones=np.ones(X.shape[0])\n",
    "    X=np.column_stack([ones, X])\n",
    "    \n",
    "    #Taking the inverse of Gram Matrix\n",
    "    XTX=X.T.dot(X)\n",
    "    XTX= XTX + r * np.eye(XTX.shape[0])\n",
    "    XTX_inv=np.linalg.inv(XTX)\n",
    "    \n",
    "    #Implementing the full formula to get w\n",
    "    w_full=XTX_inv.dot(X.T).dot(y)\n",
    "    \n",
    "    # This will return bias terms and remaining weights seperately\n",
    "    return w_full[0], w_full[1: ]"
   ]
  },
  {
   "cell_type": "code",
   "execution_count": 98,
   "id": "ed69fd9b",
   "metadata": {},
   "outputs": [
    {
     "data": {
      "text/plain": [
       "0.4565219901277363"
      ]
     },
     "execution_count": 98,
     "metadata": {},
     "output_type": "execute_result"
    }
   ],
   "source": [
    "X_train = prepare_x(df_train)\n",
    "Wo, w = train_linear_regression_reg(X_train, y_train, r=0.01)   \n",
    "\n",
    "# Now Validating it again \n",
    "x_val=prepare_x(df_val)\n",
    "y_pred=Wo+x_val.dot(w)\n",
    "RMSE(y_val, y_pred)"
   ]
  },
  {
   "cell_type": "markdown",
   "id": "3e9b2803",
   "metadata": {},
   "source": [
    "Boom !! my model has now imporved considerably by doing regularization.\n",
    "\n",
    "#### Regualarization is nothing but a process of controlling weights so they grow to much.\n",
    "\n",
    "But it yields good results as it did in my case. "
   ]
  },
  {
   "cell_type": "markdown",
   "id": "3f0ae638",
   "metadata": {},
   "source": [
    "# Fine Tuninng The Model "
   ]
  },
  {
   "cell_type": "markdown",
   "id": "cd751a3a",
   "metadata": {},
   "source": [
    "As $'r'$ of of regularization is affecting the quality of my model. So, I want to find the best value of it by using validation dataset. "
   ]
  },
  {
   "cell_type": "code",
   "execution_count": 103,
   "id": "b517ed54",
   "metadata": {},
   "outputs": [
    {
     "name": "stdout",
     "output_type": "stream",
     "text": [
      "0.0     428.2812805730471\n",
      "1e-05     0.45651697538764\n",
      "0.0001     0.4565170655112112\n",
      "0.001     0.4565175088748918\n",
      "0.01     0.4565219901277363\n",
      "0.1     0.45656927630172167\n",
      "1     0.4572204317996273\n",
      "5     0.4622930016736152\n",
      "10     0.47014569320990524\n",
      "15     0.4778577401370087\n"
     ]
    }
   ],
   "source": [
    "for r in [0.0, 0.00001, 0.0001, 0.001, 0.01, 0.1, 1, 5, 10, 15]: # Providing multiple value of r \n",
    "    X_train = prepare_x(df_train)\n",
    "    Wo, w = train_linear_regression_reg(X_train, y_train, r=r)   \n",
    "\n",
    "    # Now Validating it again \n",
    "    x_val=prepare_x(df_val)\n",
    "    y_pred=Wo+x_val.dot(w)\n",
    "    score=RMSE(y_val, y_pred)\n",
    "    print (r, \"   \",score)"
   ]
  },
  {
   "cell_type": "markdown",
   "id": "5a5428d3",
   "metadata": {},
   "source": [
    "The value of 0.01 for the r is pretty Ok. So, keeping it as best option. "
   ]
  },
  {
   "cell_type": "code",
   "execution_count": 105,
   "id": "8e09de6a",
   "metadata": {},
   "outputs": [
    {
     "name": "stdout",
     "output_type": "stream",
     "text": [
      "0.4565219901277363\n"
     ]
    }
   ],
   "source": [
    "r=0.01\n",
    "X_train = prepare_x(df_train)\n",
    "Wo, w = train_linear_regression_reg(X_train, y_train, r=r)   \n",
    "\n",
    "# Now Validating it again \n",
    "x_val=prepare_x(df_val)\n",
    "y_pred=Wo+x_val.dot(w)\n",
    "score=RMSE(y_val, y_pred)\n",
    "print (score)"
   ]
  },
  {
   "cell_type": "code",
   "execution_count": null,
   "id": "c2a5bf1e",
   "metadata": {},
   "outputs": [],
   "source": []
  },
  {
   "cell_type": "code",
   "execution_count": null,
   "id": "6ce7dd17",
   "metadata": {},
   "outputs": [],
   "source": []
  },
  {
   "cell_type": "code",
   "execution_count": null,
   "id": "6fb34bc4",
   "metadata": {},
   "outputs": [],
   "source": []
  },
  {
   "cell_type": "code",
   "execution_count": null,
   "id": "aa1a93a1",
   "metadata": {},
   "outputs": [],
   "source": []
  },
  {
   "cell_type": "code",
   "execution_count": null,
   "id": "ea9ea40c",
   "metadata": {},
   "outputs": [],
   "source": []
  },
  {
   "cell_type": "code",
   "execution_count": null,
   "id": "49a9480a",
   "metadata": {},
   "outputs": [],
   "source": []
  },
  {
   "cell_type": "code",
   "execution_count": null,
   "id": "26daa093",
   "metadata": {},
   "outputs": [],
   "source": []
  },
  {
   "cell_type": "code",
   "execution_count": null,
   "id": "1f51009f",
   "metadata": {},
   "outputs": [],
   "source": []
  },
  {
   "cell_type": "code",
   "execution_count": null,
   "id": "dc5866c1",
   "metadata": {},
   "outputs": [],
   "source": []
  },
  {
   "cell_type": "markdown",
   "id": "a3f768ed",
   "metadata": {},
   "source": [
    "$ RMSE = \\sqrt{\\frac{1}{m}\\sum_{i=1}^{m} (g(x_i)-y_i)^2} $"
   ]
  },
  {
   "cell_type": "code",
   "execution_count": null,
   "id": "5af14e1b",
   "metadata": {},
   "outputs": [],
   "source": []
  },
  {
   "cell_type": "code",
   "execution_count": null,
   "id": "fb4a9197",
   "metadata": {},
   "outputs": [],
   "source": []
  },
  {
   "cell_type": "code",
   "execution_count": null,
   "id": "a88d5455",
   "metadata": {},
   "outputs": [],
   "source": []
  },
  {
   "cell_type": "code",
   "execution_count": null,
   "id": "f151d404",
   "metadata": {},
   "outputs": [],
   "source": []
  },
  {
   "cell_type": "code",
   "execution_count": null,
   "id": "1c351339",
   "metadata": {},
   "outputs": [],
   "source": []
  },
  {
   "cell_type": "markdown",
   "id": "136bc495",
   "metadata": {},
   "source": [
    "$ RMSE = \\sqrt{\\frac{1}{m}\\sum_{i=1}^{m} (g(x_i)-y_i)^2} $\n",
    "\n",
    "$ RMSE = \\sqrt{\\frac{1}{m} \\sum\\limits _{i=1}^{m} (g(x_i)-y_i)^2} $"
   ]
  },
  {
   "cell_type": "markdown",
   "id": "4a8b20e9",
   "metadata": {},
   "source": [
    "$X^{-1}X_w = X^{-1}y$"
   ]
  },
  {
   "cell_type": "markdown",
   "id": "ee2f7564",
   "metadata": {},
   "source": [
    "To get element each other top in latex \n",
    "${1 \\above 0pt \\#}$"
   ]
  },
  {
   "cell_type": "markdown",
   "id": "be31e92e",
   "metadata": {},
   "source": [
    "$X^{-1} $"
   ]
  },
  {
   "cell_type": "markdown",
   "id": "14ba58e8",
   "metadata": {},
   "source": [
    "$ g(X)=X_w\\sim y$"
   ]
  },
  {
   "cell_type": "code",
   "execution_count": null,
   "id": "f9060360",
   "metadata": {},
   "outputs": [],
   "source": []
  }
 ],
 "metadata": {
  "kernelspec": {
   "display_name": "Python 3",
   "language": "python",
   "name": "python3"
  },
  "language_info": {
   "codemirror_mode": {
    "name": "ipython",
    "version": 3
   },
   "file_extension": ".py",
   "mimetype": "text/x-python",
   "name": "python",
   "nbconvert_exporter": "python",
   "pygments_lexer": "ipython3",
   "version": "3.8.8"
  }
 },
 "nbformat": 4,
 "nbformat_minor": 5
}
